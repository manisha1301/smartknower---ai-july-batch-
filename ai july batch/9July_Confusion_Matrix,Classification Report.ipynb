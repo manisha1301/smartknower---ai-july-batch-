{
 "cells": [
  {
   "cell_type": "markdown",
   "id": "661ac0e5",
   "metadata": {},
   "source": [
    "#### Classification Problem Statement\n",
    "1) Target variable is Catgeorical in nature"
   ]
  },
  {
   "cell_type": "markdown",
   "id": "733b7471",
   "metadata": {},
   "source": [
    "#### Confusion matrix\n",
    "\n",
    "1) It is square matrix, consisting of 4 terms - TP,FN,FP and TN<br>\n",
    "2) Is the number of categories in target varaibles is n, then shape of the confusion matrix is n*n"
   ]
  },
  {
   "cell_type": "markdown",
   "id": "8f5cc364",
   "metadata": {},
   "source": [
    "#### Terminologies\n",
    "\n",
    "1) <b>TP (True Positive)</b><br>\n",
    "Actual value is positive, ML or DL model also predicted a positive value.\n",
    "\n",
    "2) <b>FP (False Positive)</b><br>\n",
    "Actual value is negative, ML or DL model predicted a positive value.\n",
    "\n",
    "3) <b>FN (False Negative)</b><br>\n",
    "Actual value is positive, ML or DL model predicted a negative value.\n",
    "\n",
    "4) <b>TN (True Negative)</b><br>\n",
    "Actual value is negative, ML or DL model also predicted a negative value.\n",
    "\n",
    "\n",
    "<br>Note\n",
    "1) Sum of all actual positive values = TP + FN<br>\n",
    "2) Sum of all actual negative values = FP + TN<br>\n",
    "3) Sum of all positively predicted values = TP + FP<br>\n",
    "4) Sum of all negatively predicted values = FN + TN"
   ]
  },
  {
   "cell_type": "markdown",
   "id": "ece387d8",
   "metadata": {},
   "source": [
    "### Classification Metrics\n",
    "\n",
    "1) <b>Precision = TP/(TP+FP), TN/(TN+FN)</b><br>\n",
    "From sum of all positively predicted cases, how many are actually positive.<br>\n",
    "From sum of all negatively predicted cases, how many are actually negative.\n",
    "\n",
    "2) <b>Recall = TP/(TP+FN), TN/(TN+FP)</b><br>\n",
    "From sum of all actually positive cases, how many has the model predicted as positive<br>\n",
    "From sum of all actually negative cases, how many has the model predicted as negative<br>\n",
    "\n",
    "3) <b>F1-Score = 2 * Precision * Recall /(Precision + Recall)</b><br>\n",
    "It is the Harmonic mean between Precision and Recall<br>\n",
    "\n",
    "4) <b>Accuracy = (TP +TN)/(TP+FN+TN+FP)</b><br>\n",
    "Overall, how good is the model perfroming."
   ]
  },
  {
   "cell_type": "code",
   "execution_count": 1,
   "id": "123b3419",
   "metadata": {},
   "outputs": [],
   "source": [
    "# x = ['Age','BMI','BGL','Body_wt','Gender','SkinThickness']\n",
    "# y = Diabetic(0) or non-diabetic(1)"
   ]
  },
  {
   "cell_type": "code",
   "execution_count": 2,
   "id": "6d1ef6ff",
   "metadata": {},
   "outputs": [
    {
     "name": "stdout",
     "output_type": "stream",
     "text": [
      "22\n",
      "22\n"
     ]
    }
   ],
   "source": [
    "# 0 - Positive(True), 1 - Negative(False)\n",
    "y_true = [1,0,1,1,0,0,1,0,0,0,1,0,1,0,0,1,1,1,0,1,0,1]\n",
    "y_pred = [0,1,0,1,0,1,1,1,0,0,0,1,1,0,1,1,1,0,1,0,1,0]\n",
    "print(len(y_true))\n",
    "print(len(y_pred))"
   ]
  },
  {
   "cell_type": "code",
   "execution_count": 4,
   "id": "70c654c7",
   "metadata": {},
   "outputs": [],
   "source": [
    "from sklearn.metrics import confusion_matrix,classification_report"
   ]
  },
  {
   "cell_type": "code",
   "execution_count": 6,
   "id": "28e36257",
   "metadata": {},
   "outputs": [
    {
     "name": "stdout",
     "output_type": "stream",
     "text": [
      "[[4 7]\n",
      " [6 5]]\n"
     ]
    }
   ],
   "source": [
    "cm = confusion_matrix(y_true,y_pred)\n",
    "print(cm)\n",
    "# Actual values = 0, Predicted value = 0, => TP = 4\n",
    "# Actual values = 0, Predicted value = 1 =>  FN = 7\n",
    "# Actual values = 1, Predicted value = 0 =>  FP = 6\n",
    "# Actual values = 1, Predicted value = 1 =>  TN = 5\n",
    "# [TP=4 FN=7]\n",
    "# [FP=6 TN=5]"
   ]
  },
  {
   "cell_type": "code",
   "execution_count": 8,
   "id": "24081053",
   "metadata": {},
   "outputs": [
    {
     "name": "stdout",
     "output_type": "stream",
     "text": [
      "              precision    recall  f1-score   support\n",
      "\n",
      "           0       0.40      0.36      0.38        11\n",
      "           1       0.42      0.45      0.43        11\n",
      "\n",
      "    accuracy                           0.41        22\n",
      "   macro avg       0.41      0.41      0.41        22\n",
      "weighted avg       0.41      0.41      0.41        22\n",
      "\n"
     ]
    }
   ],
   "source": [
    "print(classification_report(y_true,y_pred))"
   ]
  },
  {
   "cell_type": "code",
   "execution_count": 10,
   "id": "97639882",
   "metadata": {},
   "outputs": [
    {
     "name": "stdout",
     "output_type": "stream",
     "text": [
      "[[4 7]\n",
      " [6 5]]\n"
     ]
    }
   ],
   "source": [
    "# Precision = TP/(TP+FP), TN/(TN+FN)\n",
    "# Recall = TP/(TP+FN), TN/(TN+FP)\n",
    "# F1-Score = 2 * Precision * Recall /(Precision + Recall)\n",
    "# Acc = TP+TN/(TP+TN+FP+FN)\n",
    "# [TP=4 FN=7]\n",
    "# [FP=6 TN=5]\n",
    "print(cm)"
   ]
  },
  {
   "cell_type": "code",
   "execution_count": 12,
   "id": "73cf4753",
   "metadata": {},
   "outputs": [
    {
     "name": "stdout",
     "output_type": "stream",
     "text": [
      "0.4 0.4166666666666667\n",
      "0.36363636363636365 0.45454545454545453\n"
     ]
    }
   ],
   "source": [
    "pre0 = 4/(4+6)\n",
    "pre1 = 5/(5+7)\n",
    "rec0 = 4/(4+7)\n",
    "rec1 = 5/(5+6)\n",
    "print(pre0,pre1)\n",
    "print(rec0,rec1)"
   ]
  },
  {
   "cell_type": "code",
   "execution_count": 13,
   "id": "4ee7be3f",
   "metadata": {},
   "outputs": [
    {
     "name": "stdout",
     "output_type": "stream",
     "text": [
      "0.380952380952381 0.43478260869565216\n"
     ]
    }
   ],
   "source": [
    "f1s0 = 2*pre0*rec0/(pre0+rec0)\n",
    "f1s1 = 2*pre1*rec1/(pre1+rec1)\n",
    "print(f1s0,f1s1)"
   ]
  },
  {
   "cell_type": "code",
   "execution_count": 16,
   "id": "52e7d774",
   "metadata": {},
   "outputs": [
    {
     "name": "stdout",
     "output_type": "stream",
     "text": [
      "0.4090909090909091\n"
     ]
    }
   ],
   "source": [
    "acc = (4+5)/(4+6+7+5)\n",
    "print(acc)"
   ]
  },
  {
   "cell_type": "code",
   "execution_count": null,
   "id": "8097e545",
   "metadata": {},
   "outputs": [],
   "source": []
  }
 ],
 "metadata": {
  "kernelspec": {
   "display_name": "Python 3",
   "language": "python",
   "name": "python3"
  },
  "language_info": {
   "codemirror_mode": {
    "name": "ipython",
    "version": 3
   },
   "file_extension": ".py",
   "mimetype": "text/x-python",
   "name": "python",
   "nbconvert_exporter": "python",
   "pygments_lexer": "ipython3",
   "version": "3.8.8"
  }
 },
 "nbformat": 4,
 "nbformat_minor": 5
}
