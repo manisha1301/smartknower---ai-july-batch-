{
 "cells": [
  {
   "cell_type": "code",
   "execution_count": 1,
   "id": "8e6e2d7d",
   "metadata": {},
   "outputs": [],
   "source": [
    "import numpy as np\n",
    "import pandas as pd\n",
    "import matplotlib.pyplot as plt"
   ]
  },
  {
   "cell_type": "code",
   "execution_count": 2,
   "id": "97066392",
   "metadata": {},
   "outputs": [],
   "source": [
    "# pip install tensorflow\n",
    "# !pip install tensorflow"
   ]
  },
  {
   "cell_type": "code",
   "execution_count": 3,
   "id": "e3b7210c",
   "metadata": {},
   "outputs": [],
   "source": [
    "import tensorflow as tf"
   ]
  },
  {
   "cell_type": "code",
   "execution_count": 4,
   "id": "7636e6b9",
   "metadata": {},
   "outputs": [
    {
     "name": "stdout",
     "output_type": "stream",
     "text": [
      "2.6.0\n"
     ]
    }
   ],
   "source": [
    "print(tf.__version__)"
   ]
  },
  {
   "cell_type": "markdown",
   "id": "9b5fb59f",
   "metadata": {},
   "source": [
    "#### TF Basics\n",
    "1) Tensors are like numpy array<br>\n",
    "2) Tensors are multi-dimensional arrys with uniform data type(referred to as dtype)<br>\n",
    "3) All tensors are immutable like Python numbers and strings. They cant be updated<br>"
   ]
  },
  {
   "cell_type": "code",
   "execution_count": 8,
   "id": "c24f907c",
   "metadata": {},
   "outputs": [
    {
     "name": "stdout",
     "output_type": "stream",
     "text": [
      "tf.Tensor(76, shape=(), dtype=int32)\n",
      "76\n",
      "<dtype: 'int32'>\n",
      "0\n",
      "()\n"
     ]
    }
   ],
   "source": [
    "r0t = tf.constant(76)\n",
    "print(r0t)\n",
    "print(r0t.numpy())\n",
    "print(r0t.dtype)\n",
    "print(r0t.ndim)\n",
    "print(r0t.shape)"
   ]
  },
  {
   "cell_type": "code",
   "execution_count": 13,
   "id": "faa31e1e",
   "metadata": {},
   "outputs": [
    {
     "name": "stdout",
     "output_type": "stream",
     "text": [
      "tf.Tensor([1 2 3 4 5 6 7], shape=(7,), dtype=int32)\n",
      "[1 2 3 4 5 6 7]\n",
      "<dtype: 'int32'>\n",
      "1\n",
      "(7,)\n"
     ]
    }
   ],
   "source": [
    "r1t = tf.constant([1,2,3,4,5,6,7])\n",
    "print(r1t)\n",
    "print(r1t.numpy())\n",
    "print(r1t.dtype)\n",
    "print(r1t.ndim)\n",
    "print(r1t.shape)"
   ]
  },
  {
   "cell_type": "code",
   "execution_count": 14,
   "id": "bd997e8b",
   "metadata": {},
   "outputs": [
    {
     "name": "stdout",
     "output_type": "stream",
     "text": [
      "tf.Tensor(\n",
      "[[ 1  2  3]\n",
      " [ 4 55  6]], shape=(2, 3), dtype=int32)\n",
      "[[ 1  2  3]\n",
      " [ 4 55  6]]\n",
      "<dtype: 'int32'>\n",
      "2\n",
      "(2, 3)\n"
     ]
    }
   ],
   "source": [
    "r2t = tf.constant([[1,2,3],[4,55,6]])\n",
    "print(r2t)\n",
    "print(r2t.numpy())\n",
    "print(r2t.dtype)\n",
    "print(r2t.ndim)\n",
    "print(r2t.shape)"
   ]
  },
  {
   "cell_type": "code",
   "execution_count": 16,
   "id": "b98a8b55",
   "metadata": {},
   "outputs": [
    {
     "name": "stdout",
     "output_type": "stream",
     "text": [
      "tf.Tensor(\n",
      "[[[ 1  2  3]\n",
      "  [ 4  5  6]]\n",
      "\n",
      " [[ 7  8  9]\n",
      "  [10 11 12]]], shape=(2, 2, 3), dtype=int32)\n",
      "[[[ 1  2  3]\n",
      "  [ 4  5  6]]\n",
      "\n",
      " [[ 7  8  9]\n",
      "  [10 11 12]]]\n",
      "<dtype: 'int32'>\n",
      "3\n",
      "(2, 2, 3)\n"
     ]
    }
   ],
   "source": [
    "r3t = tf.constant([[[1,2,3],[4,5,6]],[[7,8,9],[10,11,12]]])\n",
    "print(r3t)\n",
    "print(r3t.numpy())\n",
    "print(r3t.dtype)\n",
    "print(r3t.ndim)\n",
    "print(r3t.shape)"
   ]
  },
  {
   "cell_type": "markdown",
   "id": "50a3927f",
   "metadata": {},
   "source": [
    "#### Tensors are immutable"
   ]
  },
  {
   "cell_type": "code",
   "execution_count": 18,
   "id": "c8da304f",
   "metadata": {},
   "outputs": [
    {
     "name": "stdout",
     "output_type": "stream",
     "text": [
      "[3 4 5 6 7 8]\n",
      "3\n"
     ]
    },
    {
     "ename": "TypeError",
     "evalue": "'tensorflow.python.framework.ops.EagerTensor' object does not support item assignment",
     "output_type": "error",
     "traceback": [
      "\u001b[1;31m---------------------------------------------------------------------------\u001b[0m",
      "\u001b[1;31mTypeError\u001b[0m                                 Traceback (most recent call last)",
      "\u001b[1;32m<ipython-input-18-cd1bb3ca0996>\u001b[0m in \u001b[0;36m<module>\u001b[1;34m\u001b[0m\n\u001b[0;32m      2\u001b[0m \u001b[0mprint\u001b[0m\u001b[1;33m(\u001b[0m\u001b[0mw1\u001b[0m\u001b[1;33m.\u001b[0m\u001b[0mnumpy\u001b[0m\u001b[1;33m(\u001b[0m\u001b[1;33m)\u001b[0m\u001b[1;33m)\u001b[0m\u001b[1;33m\u001b[0m\u001b[1;33m\u001b[0m\u001b[0m\n\u001b[0;32m      3\u001b[0m \u001b[0mprint\u001b[0m\u001b[1;33m(\u001b[0m\u001b[0mw1\u001b[0m\u001b[1;33m[\u001b[0m\u001b[1;36m0\u001b[0m\u001b[1;33m]\u001b[0m\u001b[1;33m.\u001b[0m\u001b[0mnumpy\u001b[0m\u001b[1;33m(\u001b[0m\u001b[1;33m)\u001b[0m\u001b[1;33m)\u001b[0m\u001b[1;33m\u001b[0m\u001b[1;33m\u001b[0m\u001b[0m\n\u001b[1;32m----> 4\u001b[1;33m \u001b[0mw1\u001b[0m\u001b[1;33m[\u001b[0m\u001b[1;36m0\u001b[0m\u001b[1;33m]\u001b[0m \u001b[1;33m=\u001b[0m \u001b[1;36m50\u001b[0m\u001b[1;33m\u001b[0m\u001b[1;33m\u001b[0m\u001b[0m\n\u001b[0m\u001b[0;32m      5\u001b[0m \u001b[0mprint\u001b[0m\u001b[1;33m(\u001b[0m\u001b[0mw1\u001b[0m\u001b[1;33m)\u001b[0m\u001b[1;33m\u001b[0m\u001b[1;33m\u001b[0m\u001b[0m\n",
      "\u001b[1;31mTypeError\u001b[0m: 'tensorflow.python.framework.ops.EagerTensor' object does not support item assignment"
     ]
    }
   ],
   "source": [
    "w1 = tf.constant([3,4,5,6,7,8])\n",
    "print(w1.numpy())\n",
    "print(w1[0].numpy())\n",
    "w1[0] = 50\n",
    "print(w1)"
   ]
  },
  {
   "cell_type": "markdown",
   "id": "f78533a5",
   "metadata": {},
   "source": [
    "#### Tensroflow Operations"
   ]
  },
  {
   "cell_type": "code",
   "execution_count": 20,
   "id": "a7025530",
   "metadata": {},
   "outputs": [
    {
     "name": "stdout",
     "output_type": "stream",
     "text": [
      "[[ 8 12]\n",
      " [ 9 24]]\n",
      "[[ 6  8]\n",
      " [ 3 16]]\n",
      "[[ 7 20]\n",
      " [18 80]]\n",
      "[[7. 5.]\n",
      " [2. 5.]]\n"
     ]
    }
   ],
   "source": [
    "a1 = tf.constant([[1,2],[3,4]])\n",
    "a2 = tf.constant([[7,10],[6,20]])\n",
    "\n",
    "print(tf.add(a1,a2).numpy())\n",
    "print(tf.subtract(a2,a1).numpy())\n",
    "print(tf.multiply(a1,a2).numpy()) # element wise multiplication\n",
    "print(tf.divide(a2,a1).numpy())"
   ]
  },
  {
   "cell_type": "code",
   "execution_count": 22,
   "id": "4a26f6fc",
   "metadata": {},
   "outputs": [
    {
     "name": "stdout",
     "output_type": "stream",
     "text": [
      "tf.Tensor(\n",
      "[[ 8 12]\n",
      " [ 9 24]], shape=(2, 2), dtype=int32)\n",
      "tf.Tensor(\n",
      "[[ 6  8]\n",
      " [ 3 16]], shape=(2, 2), dtype=int32)\n",
      "tf.Tensor(\n",
      "[[ 7 20]\n",
      " [18 80]], shape=(2, 2), dtype=int32)\n",
      "tf.Tensor(\n",
      "[[7. 5.]\n",
      " [2. 5.]], shape=(2, 2), dtype=float64)\n"
     ]
    }
   ],
   "source": [
    "print(a1+a2)\n",
    "print(a2-a1)\n",
    "print(a1*a2)\n",
    "print(a2/a1)"
   ]
  },
  {
   "cell_type": "markdown",
   "id": "5319f6c7",
   "metadata": {},
   "source": [
    "#### Architecture for Neural Network"
   ]
  },
  {
   "cell_type": "code",
   "execution_count": 25,
   "id": "194ae524",
   "metadata": {},
   "outputs": [],
   "source": [
    "from tensorflow.keras.models import Sequential\n",
    "from tensorflow.keras.layers import Dense"
   ]
  },
  {
   "cell_type": "markdown",
   "id": "35174f9a",
   "metadata": {},
   "source": [
    "#### ANN Model for Regression\n",
    "1) Activation function used in hidden layer  - relu, leakyrelu<br>\n",
    "2) Activation function used in output layer  - linear<br>\n",
    "3) Optimizer - adam, rmsprop, sgd<br>\n",
    "4) Loss Function - mse, mae<br>\n"
   ]
  },
  {
   "cell_type": "code",
   "execution_count": null,
   "id": "09aa32d1",
   "metadata": {},
   "outputs": [],
   "source": [
    "# Suppose shape of x(independent feature) = (200,8)\n",
    "# Rows = 200, Columns = 8"
   ]
  },
  {
   "cell_type": "code",
   "execution_count": 27,
   "id": "75bbfab9",
   "metadata": {},
   "outputs": [],
   "source": [
    "m1 = Sequential()                                 # Input layer has 8 neurons\n",
    "m1.add(Dense(32,activation='relu',input_dim=8))   # H1 has 32 neurons\n",
    "m1.add(Dense(16,activation='relu'))               # H2 has 16 neurons\n",
    "m1.add(Dense(8,activation='relu'))                # H3 has 8 neurons\n",
    "m1.add(Dense(1))                                  # Output layer has 1 neuron, activation='linear'\n",
    "\n",
    "m1.compile(optimizer='adam',loss='mse')"
   ]
  },
  {
   "cell_type": "code",
   "execution_count": 28,
   "id": "28b91de2",
   "metadata": {},
   "outputs": [
    {
     "name": "stdout",
     "output_type": "stream",
     "text": [
      "Model: \"sequential_1\"\n",
      "_________________________________________________________________\n",
      "Layer (type)                 Output Shape              Param #   \n",
      "=================================================================\n",
      "dense_4 (Dense)              (None, 32)                288       \n",
      "_________________________________________________________________\n",
      "dense_5 (Dense)              (None, 16)                528       \n",
      "_________________________________________________________________\n",
      "dense_6 (Dense)              (None, 8)                 136       \n",
      "_________________________________________________________________\n",
      "dense_7 (Dense)              (None, 1)                 9         \n",
      "=================================================================\n",
      "Total params: 961\n",
      "Trainable params: 961\n",
      "Non-trainable params: 0\n",
      "_________________________________________________________________\n"
     ]
    }
   ],
   "source": [
    "m1.summary()"
   ]
  },
  {
   "cell_type": "markdown",
   "id": "05a6143c",
   "metadata": {},
   "source": [
    "#### ANN Model for Binary Classification \n",
    "\n",
    "1) Activation function used in hidden layer  - relu, leakyrelu<br>\n",
    "2) Activation function used in output layer  - sigmoid<br>\n",
    "3) Optimizer - adam, rmsprop, sgd<br>\n",
    "4) Loss Function - binary_crossentropy<br>\n"
   ]
  },
  {
   "cell_type": "code",
   "execution_count": null,
   "id": "bf40261d",
   "metadata": {},
   "outputs": [],
   "source": []
  }
 ],
 "metadata": {
  "kernelspec": {
   "display_name": "Python 3",
   "language": "python",
   "name": "python3"
  },
  "language_info": {
   "codemirror_mode": {
    "name": "ipython",
    "version": 3
   },
   "file_extension": ".py",
   "mimetype": "text/x-python",
   "name": "python",
   "nbconvert_exporter": "python",
   "pygments_lexer": "ipython3",
   "version": "3.8.8"
  }
 },
 "nbformat": 4,
 "nbformat_minor": 5
}
