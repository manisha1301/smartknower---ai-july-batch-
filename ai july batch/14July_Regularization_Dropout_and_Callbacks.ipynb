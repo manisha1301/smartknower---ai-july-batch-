{
 "cells": [
  {
   "cell_type": "code",
   "execution_count": 1,
   "id": "22520117",
   "metadata": {},
   "outputs": [],
   "source": [
    "import pandas as pd\n",
    "import numpy as np\n",
    "import matplotlib.pyplot as plt"
   ]
  },
  {
   "cell_type": "code",
   "execution_count": 3,
   "id": "bc49e441",
   "metadata": {},
   "outputs": [],
   "source": [
    "from sklearn.metrics import confusion_matrix, classification_report\n",
    "from sklearn.model_selection import train_test_split"
   ]
  },
  {
   "cell_type": "code",
   "execution_count": 5,
   "id": "d0b51e09",
   "metadata": {},
   "outputs": [],
   "source": [
    "from tensorflow.keras.models import Sequential\n",
    "from tensorflow.keras.layers import Dense, Dropout"
   ]
  },
  {
   "cell_type": "code",
   "execution_count": 8,
   "id": "518991be",
   "metadata": {},
   "outputs": [
    {
     "data": {
      "text/html": [
       "<div>\n",
       "<style scoped>\n",
       "    .dataframe tbody tr th:only-of-type {\n",
       "        vertical-align: middle;\n",
       "    }\n",
       "\n",
       "    .dataframe tbody tr th {\n",
       "        vertical-align: top;\n",
       "    }\n",
       "\n",
       "    .dataframe thead th {\n",
       "        text-align: right;\n",
       "    }\n",
       "</style>\n",
       "<table border=\"1\" class=\"dataframe\">\n",
       "  <thead>\n",
       "    <tr style=\"text-align: right;\">\n",
       "      <th></th>\n",
       "      <th>0</th>\n",
       "      <th>1</th>\n",
       "      <th>2</th>\n",
       "      <th>3</th>\n",
       "      <th>4</th>\n",
       "      <th>5</th>\n",
       "      <th>6</th>\n",
       "      <th>7</th>\n",
       "      <th>8</th>\n",
       "      <th>9</th>\n",
       "      <th>...</th>\n",
       "      <th>51</th>\n",
       "      <th>52</th>\n",
       "      <th>53</th>\n",
       "      <th>54</th>\n",
       "      <th>55</th>\n",
       "      <th>56</th>\n",
       "      <th>57</th>\n",
       "      <th>58</th>\n",
       "      <th>59</th>\n",
       "      <th>60</th>\n",
       "    </tr>\n",
       "  </thead>\n",
       "  <tbody>\n",
       "    <tr>\n",
       "      <th>0</th>\n",
       "      <td>0.0200</td>\n",
       "      <td>0.0371</td>\n",
       "      <td>0.0428</td>\n",
       "      <td>0.0207</td>\n",
       "      <td>0.0954</td>\n",
       "      <td>0.0986</td>\n",
       "      <td>0.1539</td>\n",
       "      <td>0.1601</td>\n",
       "      <td>0.3109</td>\n",
       "      <td>0.2111</td>\n",
       "      <td>...</td>\n",
       "      <td>0.0027</td>\n",
       "      <td>0.0065</td>\n",
       "      <td>0.0159</td>\n",
       "      <td>0.0072</td>\n",
       "      <td>0.0167</td>\n",
       "      <td>0.0180</td>\n",
       "      <td>0.0084</td>\n",
       "      <td>0.0090</td>\n",
       "      <td>0.0032</td>\n",
       "      <td>R</td>\n",
       "    </tr>\n",
       "    <tr>\n",
       "      <th>1</th>\n",
       "      <td>0.0453</td>\n",
       "      <td>0.0523</td>\n",
       "      <td>0.0843</td>\n",
       "      <td>0.0689</td>\n",
       "      <td>0.1183</td>\n",
       "      <td>0.2583</td>\n",
       "      <td>0.2156</td>\n",
       "      <td>0.3481</td>\n",
       "      <td>0.3337</td>\n",
       "      <td>0.2872</td>\n",
       "      <td>...</td>\n",
       "      <td>0.0084</td>\n",
       "      <td>0.0089</td>\n",
       "      <td>0.0048</td>\n",
       "      <td>0.0094</td>\n",
       "      <td>0.0191</td>\n",
       "      <td>0.0140</td>\n",
       "      <td>0.0049</td>\n",
       "      <td>0.0052</td>\n",
       "      <td>0.0044</td>\n",
       "      <td>R</td>\n",
       "    </tr>\n",
       "    <tr>\n",
       "      <th>2</th>\n",
       "      <td>0.0262</td>\n",
       "      <td>0.0582</td>\n",
       "      <td>0.1099</td>\n",
       "      <td>0.1083</td>\n",
       "      <td>0.0974</td>\n",
       "      <td>0.2280</td>\n",
       "      <td>0.2431</td>\n",
       "      <td>0.3771</td>\n",
       "      <td>0.5598</td>\n",
       "      <td>0.6194</td>\n",
       "      <td>...</td>\n",
       "      <td>0.0232</td>\n",
       "      <td>0.0166</td>\n",
       "      <td>0.0095</td>\n",
       "      <td>0.0180</td>\n",
       "      <td>0.0244</td>\n",
       "      <td>0.0316</td>\n",
       "      <td>0.0164</td>\n",
       "      <td>0.0095</td>\n",
       "      <td>0.0078</td>\n",
       "      <td>R</td>\n",
       "    </tr>\n",
       "    <tr>\n",
       "      <th>3</th>\n",
       "      <td>0.0100</td>\n",
       "      <td>0.0171</td>\n",
       "      <td>0.0623</td>\n",
       "      <td>0.0205</td>\n",
       "      <td>0.0205</td>\n",
       "      <td>0.0368</td>\n",
       "      <td>0.1098</td>\n",
       "      <td>0.1276</td>\n",
       "      <td>0.0598</td>\n",
       "      <td>0.1264</td>\n",
       "      <td>...</td>\n",
       "      <td>0.0121</td>\n",
       "      <td>0.0036</td>\n",
       "      <td>0.0150</td>\n",
       "      <td>0.0085</td>\n",
       "      <td>0.0073</td>\n",
       "      <td>0.0050</td>\n",
       "      <td>0.0044</td>\n",
       "      <td>0.0040</td>\n",
       "      <td>0.0117</td>\n",
       "      <td>R</td>\n",
       "    </tr>\n",
       "    <tr>\n",
       "      <th>4</th>\n",
       "      <td>0.0762</td>\n",
       "      <td>0.0666</td>\n",
       "      <td>0.0481</td>\n",
       "      <td>0.0394</td>\n",
       "      <td>0.0590</td>\n",
       "      <td>0.0649</td>\n",
       "      <td>0.1209</td>\n",
       "      <td>0.2467</td>\n",
       "      <td>0.3564</td>\n",
       "      <td>0.4459</td>\n",
       "      <td>...</td>\n",
       "      <td>0.0031</td>\n",
       "      <td>0.0054</td>\n",
       "      <td>0.0105</td>\n",
       "      <td>0.0110</td>\n",
       "      <td>0.0015</td>\n",
       "      <td>0.0072</td>\n",
       "      <td>0.0048</td>\n",
       "      <td>0.0107</td>\n",
       "      <td>0.0094</td>\n",
       "      <td>R</td>\n",
       "    </tr>\n",
       "  </tbody>\n",
       "</table>\n",
       "<p>5 rows × 61 columns</p>\n",
       "</div>"
      ],
      "text/plain": [
       "       0       1       2       3       4       5       6       7       8   \\\n",
       "0  0.0200  0.0371  0.0428  0.0207  0.0954  0.0986  0.1539  0.1601  0.3109   \n",
       "1  0.0453  0.0523  0.0843  0.0689  0.1183  0.2583  0.2156  0.3481  0.3337   \n",
       "2  0.0262  0.0582  0.1099  0.1083  0.0974  0.2280  0.2431  0.3771  0.5598   \n",
       "3  0.0100  0.0171  0.0623  0.0205  0.0205  0.0368  0.1098  0.1276  0.0598   \n",
       "4  0.0762  0.0666  0.0481  0.0394  0.0590  0.0649  0.1209  0.2467  0.3564   \n",
       "\n",
       "       9   ...      51      52      53      54      55      56      57  \\\n",
       "0  0.2111  ...  0.0027  0.0065  0.0159  0.0072  0.0167  0.0180  0.0084   \n",
       "1  0.2872  ...  0.0084  0.0089  0.0048  0.0094  0.0191  0.0140  0.0049   \n",
       "2  0.6194  ...  0.0232  0.0166  0.0095  0.0180  0.0244  0.0316  0.0164   \n",
       "3  0.1264  ...  0.0121  0.0036  0.0150  0.0085  0.0073  0.0050  0.0044   \n",
       "4  0.4459  ...  0.0031  0.0054  0.0105  0.0110  0.0015  0.0072  0.0048   \n",
       "\n",
       "       58      59  60  \n",
       "0  0.0090  0.0032   R  \n",
       "1  0.0052  0.0044   R  \n",
       "2  0.0095  0.0078   R  \n",
       "3  0.0040  0.0117   R  \n",
       "4  0.0107  0.0094   R  \n",
       "\n",
       "[5 rows x 61 columns]"
      ]
     },
     "execution_count": 8,
     "metadata": {},
     "output_type": "execute_result"
    }
   ],
   "source": [
    "df = pd.read_csv('sonar.csv',header=None)\n",
    "df.head()"
   ]
  },
  {
   "cell_type": "code",
   "execution_count": 9,
   "id": "f529a8db",
   "metadata": {},
   "outputs": [
    {
     "data": {
      "text/plain": [
       "(208, 61)"
      ]
     },
     "execution_count": 9,
     "metadata": {},
     "output_type": "execute_result"
    }
   ],
   "source": [
    "df.shape"
   ]
  },
  {
   "cell_type": "code",
   "execution_count": 13,
   "id": "01241939",
   "metadata": {},
   "outputs": [
    {
     "data": {
      "text/plain": [
       "Series([], dtype: int64)"
      ]
     },
     "execution_count": 13,
     "metadata": {},
     "output_type": "execute_result"
    }
   ],
   "source": [
    "nv = df.isnull().sum()\n",
    "nv[nv>0]"
   ]
  },
  {
   "cell_type": "code",
   "execution_count": 14,
   "id": "1984a96c",
   "metadata": {},
   "outputs": [
    {
     "data": {
      "text/plain": [
       "0"
      ]
     },
     "execution_count": 14,
     "metadata": {},
     "output_type": "execute_result"
    }
   ],
   "source": [
    "df.duplicated().sum()"
   ]
  },
  {
   "cell_type": "code",
   "execution_count": 16,
   "id": "64d0c9ae",
   "metadata": {},
   "outputs": [
    {
     "data": {
      "text/plain": [
       "float64    60\n",
       "object      1\n",
       "dtype: int64"
      ]
     },
     "execution_count": 16,
     "metadata": {},
     "output_type": "execute_result"
    }
   ],
   "source": [
    "df.dtypes.value_counts()"
   ]
  },
  {
   "cell_type": "code",
   "execution_count": 18,
   "id": "c8cca669",
   "metadata": {},
   "outputs": [
    {
     "data": {
      "text/plain": [
       "M    111\n",
       "R     97\n",
       "Name: 60, dtype: int64"
      ]
     },
     "execution_count": 18,
     "metadata": {},
     "output_type": "execute_result"
    }
   ],
   "source": [
    "df[60].value_counts()\n",
    "# M - Mines\n",
    "# R - Rocks"
   ]
  },
  {
   "cell_type": "code",
   "execution_count": 17,
   "id": "d5051d57",
   "metadata": {},
   "outputs": [],
   "source": [
    "from sklearn.preprocessing import LabelEncoder"
   ]
  },
  {
   "cell_type": "code",
   "execution_count": 19,
   "id": "6c8e7ccd",
   "metadata": {},
   "outputs": [],
   "source": [
    "lb = LabelEncoder()\n",
    "df[60] = lb.fit_transform(df[60])"
   ]
  },
  {
   "cell_type": "code",
   "execution_count": 20,
   "id": "75e3d2a4",
   "metadata": {},
   "outputs": [
    {
     "data": {
      "text/plain": [
       "0    111\n",
       "1     97\n",
       "Name: 60, dtype: int64"
      ]
     },
     "execution_count": 20,
     "metadata": {},
     "output_type": "execute_result"
    }
   ],
   "source": [
    "df[60].value_counts()"
   ]
  },
  {
   "cell_type": "code",
   "execution_count": 22,
   "id": "c9fa8da4",
   "metadata": {},
   "outputs": [
    {
     "data": {
      "text/plain": [
       "float64    60\n",
       "int32       1\n",
       "dtype: int64"
      ]
     },
     "execution_count": 22,
     "metadata": {},
     "output_type": "execute_result"
    }
   ],
   "source": [
    "df.dtypes.value_counts()"
   ]
  },
  {
   "cell_type": "markdown",
   "id": "e0a68c0e",
   "metadata": {},
   "source": [
    "#### Split the data"
   ]
  },
  {
   "cell_type": "code",
   "execution_count": 23,
   "id": "17590f7c",
   "metadata": {},
   "outputs": [
    {
     "name": "stdout",
     "output_type": "stream",
     "text": [
      "(208, 60)\n",
      "(208,)\n"
     ]
    }
   ],
   "source": [
    "x = df.iloc[:,:-1]\n",
    "y = df.iloc[:,-1]\n",
    "print(x.shape)\n",
    "print(y.shape)"
   ]
  },
  {
   "cell_type": "code",
   "execution_count": 25,
   "id": "a0f97cc5",
   "metadata": {},
   "outputs": [
    {
     "data": {
      "text/html": [
       "<div>\n",
       "<style scoped>\n",
       "    .dataframe tbody tr th:only-of-type {\n",
       "        vertical-align: middle;\n",
       "    }\n",
       "\n",
       "    .dataframe tbody tr th {\n",
       "        vertical-align: top;\n",
       "    }\n",
       "\n",
       "    .dataframe thead th {\n",
       "        text-align: right;\n",
       "    }\n",
       "</style>\n",
       "<table border=\"1\" class=\"dataframe\">\n",
       "  <thead>\n",
       "    <tr style=\"text-align: right;\">\n",
       "      <th></th>\n",
       "      <th>0</th>\n",
       "      <th>1</th>\n",
       "      <th>2</th>\n",
       "      <th>3</th>\n",
       "      <th>4</th>\n",
       "      <th>5</th>\n",
       "      <th>6</th>\n",
       "      <th>7</th>\n",
       "      <th>8</th>\n",
       "      <th>9</th>\n",
       "      <th>...</th>\n",
       "      <th>50</th>\n",
       "      <th>51</th>\n",
       "      <th>52</th>\n",
       "      <th>53</th>\n",
       "      <th>54</th>\n",
       "      <th>55</th>\n",
       "      <th>56</th>\n",
       "      <th>57</th>\n",
       "      <th>58</th>\n",
       "      <th>59</th>\n",
       "    </tr>\n",
       "  </thead>\n",
       "  <tbody>\n",
       "    <tr>\n",
       "      <th>0</th>\n",
       "      <td>0.0200</td>\n",
       "      <td>0.0371</td>\n",
       "      <td>0.0428</td>\n",
       "      <td>0.0207</td>\n",
       "      <td>0.0954</td>\n",
       "      <td>0.0986</td>\n",
       "      <td>0.1539</td>\n",
       "      <td>0.1601</td>\n",
       "      <td>0.3109</td>\n",
       "      <td>0.2111</td>\n",
       "      <td>...</td>\n",
       "      <td>0.0232</td>\n",
       "      <td>0.0027</td>\n",
       "      <td>0.0065</td>\n",
       "      <td>0.0159</td>\n",
       "      <td>0.0072</td>\n",
       "      <td>0.0167</td>\n",
       "      <td>0.0180</td>\n",
       "      <td>0.0084</td>\n",
       "      <td>0.0090</td>\n",
       "      <td>0.0032</td>\n",
       "    </tr>\n",
       "    <tr>\n",
       "      <th>1</th>\n",
       "      <td>0.0453</td>\n",
       "      <td>0.0523</td>\n",
       "      <td>0.0843</td>\n",
       "      <td>0.0689</td>\n",
       "      <td>0.1183</td>\n",
       "      <td>0.2583</td>\n",
       "      <td>0.2156</td>\n",
       "      <td>0.3481</td>\n",
       "      <td>0.3337</td>\n",
       "      <td>0.2872</td>\n",
       "      <td>...</td>\n",
       "      <td>0.0125</td>\n",
       "      <td>0.0084</td>\n",
       "      <td>0.0089</td>\n",
       "      <td>0.0048</td>\n",
       "      <td>0.0094</td>\n",
       "      <td>0.0191</td>\n",
       "      <td>0.0140</td>\n",
       "      <td>0.0049</td>\n",
       "      <td>0.0052</td>\n",
       "      <td>0.0044</td>\n",
       "    </tr>\n",
       "    <tr>\n",
       "      <th>2</th>\n",
       "      <td>0.0262</td>\n",
       "      <td>0.0582</td>\n",
       "      <td>0.1099</td>\n",
       "      <td>0.1083</td>\n",
       "      <td>0.0974</td>\n",
       "      <td>0.2280</td>\n",
       "      <td>0.2431</td>\n",
       "      <td>0.3771</td>\n",
       "      <td>0.5598</td>\n",
       "      <td>0.6194</td>\n",
       "      <td>...</td>\n",
       "      <td>0.0033</td>\n",
       "      <td>0.0232</td>\n",
       "      <td>0.0166</td>\n",
       "      <td>0.0095</td>\n",
       "      <td>0.0180</td>\n",
       "      <td>0.0244</td>\n",
       "      <td>0.0316</td>\n",
       "      <td>0.0164</td>\n",
       "      <td>0.0095</td>\n",
       "      <td>0.0078</td>\n",
       "    </tr>\n",
       "  </tbody>\n",
       "</table>\n",
       "<p>3 rows × 60 columns</p>\n",
       "</div>"
      ],
      "text/plain": [
       "       0       1       2       3       4       5       6       7       8   \\\n",
       "0  0.0200  0.0371  0.0428  0.0207  0.0954  0.0986  0.1539  0.1601  0.3109   \n",
       "1  0.0453  0.0523  0.0843  0.0689  0.1183  0.2583  0.2156  0.3481  0.3337   \n",
       "2  0.0262  0.0582  0.1099  0.1083  0.0974  0.2280  0.2431  0.3771  0.5598   \n",
       "\n",
       "       9   ...      50      51      52      53      54      55      56  \\\n",
       "0  0.2111  ...  0.0232  0.0027  0.0065  0.0159  0.0072  0.0167  0.0180   \n",
       "1  0.2872  ...  0.0125  0.0084  0.0089  0.0048  0.0094  0.0191  0.0140   \n",
       "2  0.6194  ...  0.0033  0.0232  0.0166  0.0095  0.0180  0.0244  0.0316   \n",
       "\n",
       "       57      58      59  \n",
       "0  0.0084  0.0090  0.0032  \n",
       "1  0.0049  0.0052  0.0044  \n",
       "2  0.0164  0.0095  0.0078  \n",
       "\n",
       "[3 rows x 60 columns]"
      ]
     },
     "execution_count": 25,
     "metadata": {},
     "output_type": "execute_result"
    }
   ],
   "source": [
    "x.head(3)"
   ]
  },
  {
   "cell_type": "code",
   "execution_count": 27,
   "id": "e34a2598",
   "metadata": {},
   "outputs": [
    {
     "data": {
      "text/plain": [
       "139    0\n",
       "32     1\n",
       "148    0\n",
       "53     1\n",
       "131    0\n",
       "Name: 60, dtype: int32"
      ]
     },
     "execution_count": 27,
     "metadata": {},
     "output_type": "execute_result"
    }
   ],
   "source": [
    "y.sample(5)"
   ]
  },
  {
   "cell_type": "code",
   "execution_count": 28,
   "id": "0fec1c54",
   "metadata": {},
   "outputs": [
    {
     "name": "stdout",
     "output_type": "stream",
     "text": [
      "(156, 60)\n",
      "(52, 60)\n",
      "(156,)\n",
      "(52,)\n"
     ]
    }
   ],
   "source": [
    "x_train,x_test,y_train,y_test = train_test_split(x,y,test_size=0.25)\n",
    "print(x_train.shape)\n",
    "print(x_test.shape)\n",
    "print(y_train.shape)\n",
    "print(y_test.shape)"
   ]
  },
  {
   "cell_type": "markdown",
   "id": "a68623f6",
   "metadata": {},
   "source": [
    "### Model - 1 (without Dropout Layer)"
   ]
  },
  {
   "cell_type": "code",
   "execution_count": 29,
   "id": "065ae830",
   "metadata": {},
   "outputs": [],
   "source": [
    "m1 = Sequential()\n",
    "m1.add(Dense(60,activation='relu',input_dim=60))\n",
    "m1.add(Dense(30,activation='relu'))\n",
    "m1.add(Dense(1,activation='sigmoid'))\n",
    "\n",
    "m1.compile(optimizer='adam',loss='binary_crossentropy',metrics=['accuracy'])"
   ]
  },
  {
   "cell_type": "code",
   "execution_count": 30,
   "id": "9c7d0b66",
   "metadata": {},
   "outputs": [
    {
     "name": "stdout",
     "output_type": "stream",
     "text": [
      "Epoch 1/35\n",
      "5/5 [==============================] - 5s 342ms/step - loss: 0.6783 - accuracy: 0.5641 - val_loss: 0.6548 - val_accuracy: 0.6538\n",
      "Epoch 2/35\n",
      "5/5 [==============================] - 0s 41ms/step - loss: 0.6609 - accuracy: 0.6026 - val_loss: 0.6457 - val_accuracy: 0.6538\n",
      "Epoch 3/35\n",
      "5/5 [==============================] - 0s 57ms/step - loss: 0.6497 - accuracy: 0.6218 - val_loss: 0.6353 - val_accuracy: 0.7308\n",
      "Epoch 4/35\n",
      "5/5 [==============================] - 0s 39ms/step - loss: 0.6390 - accuracy: 0.6410 - val_loss: 0.6264 - val_accuracy: 0.7308\n",
      "Epoch 5/35\n",
      "5/5 [==============================] - 0s 37ms/step - loss: 0.6282 - accuracy: 0.6667 - val_loss: 0.6175 - val_accuracy: 0.7308\n",
      "Epoch 6/35\n",
      "5/5 [==============================] - 0s 40ms/step - loss: 0.6180 - accuracy: 0.6923 - val_loss: 0.6069 - val_accuracy: 0.7500\n",
      "Epoch 7/35\n",
      "5/5 [==============================] - 0s 38ms/step - loss: 0.6076 - accuracy: 0.6923 - val_loss: 0.5974 - val_accuracy: 0.7500\n",
      "Epoch 8/35\n",
      "5/5 [==============================] - 0s 43ms/step - loss: 0.5951 - accuracy: 0.6923 - val_loss: 0.5864 - val_accuracy: 0.7500\n",
      "Epoch 9/35\n",
      "5/5 [==============================] - 0s 45ms/step - loss: 0.5846 - accuracy: 0.6923 - val_loss: 0.5754 - val_accuracy: 0.7500\n",
      "Epoch 10/35\n",
      "5/5 [==============================] - 0s 53ms/step - loss: 0.5731 - accuracy: 0.7244 - val_loss: 0.5638 - val_accuracy: 0.7500\n",
      "Epoch 11/35\n",
      "5/5 [==============================] - 0s 46ms/step - loss: 0.5625 - accuracy: 0.7308 - val_loss: 0.5525 - val_accuracy: 0.7885\n",
      "Epoch 12/35\n",
      "5/5 [==============================] - 0s 60ms/step - loss: 0.5511 - accuracy: 0.7179 - val_loss: 0.5413 - val_accuracy: 0.7885\n",
      "Epoch 13/35\n",
      "5/5 [==============================] - 0s 43ms/step - loss: 0.5397 - accuracy: 0.7244 - val_loss: 0.5301 - val_accuracy: 0.7692\n",
      "Epoch 14/35\n",
      "5/5 [==============================] - 0s 44ms/step - loss: 0.5287 - accuracy: 0.7372 - val_loss: 0.5185 - val_accuracy: 0.7692\n",
      "Epoch 15/35\n",
      "5/5 [==============================] - 0s 33ms/step - loss: 0.5182 - accuracy: 0.7692 - val_loss: 0.5109 - val_accuracy: 0.7692\n",
      "Epoch 16/35\n",
      "5/5 [==============================] - 0s 35ms/step - loss: 0.5068 - accuracy: 0.7885 - val_loss: 0.4972 - val_accuracy: 0.7500\n",
      "Epoch 17/35\n",
      "5/5 [==============================] - 0s 48ms/step - loss: 0.4969 - accuracy: 0.7628 - val_loss: 0.4849 - val_accuracy: 0.7692\n",
      "Epoch 18/35\n",
      "5/5 [==============================] - 0s 46ms/step - loss: 0.4888 - accuracy: 0.7756 - val_loss: 0.4758 - val_accuracy: 0.7692\n",
      "Epoch 19/35\n",
      "5/5 [==============================] - 0s 36ms/step - loss: 0.4779 - accuracy: 0.7821 - val_loss: 0.4641 - val_accuracy: 0.7308\n",
      "Epoch 20/35\n",
      "5/5 [==============================] - 0s 37ms/step - loss: 0.4668 - accuracy: 0.7821 - val_loss: 0.4547 - val_accuracy: 0.7692\n",
      "Epoch 21/35\n",
      "5/5 [==============================] - 0s 54ms/step - loss: 0.4577 - accuracy: 0.8141 - val_loss: 0.4473 - val_accuracy: 0.7885\n",
      "Epoch 22/35\n",
      "5/5 [==============================] - 0s 84ms/step - loss: 0.4507 - accuracy: 0.8013 - val_loss: 0.4359 - val_accuracy: 0.7500\n",
      "Epoch 23/35\n",
      "5/5 [==============================] - 0s 82ms/step - loss: 0.4425 - accuracy: 0.8077 - val_loss: 0.4284 - val_accuracy: 0.7885\n",
      "Epoch 24/35\n",
      "5/5 [==============================] - 0s 49ms/step - loss: 0.4365 - accuracy: 0.7885 - val_loss: 0.4216 - val_accuracy: 0.7692\n",
      "Epoch 25/35\n",
      "5/5 [==============================] - 0s 52ms/step - loss: 0.4251 - accuracy: 0.7885 - val_loss: 0.4150 - val_accuracy: 0.7500\n",
      "Epoch 26/35\n",
      "5/5 [==============================] - 0s 59ms/step - loss: 0.4222 - accuracy: 0.8333 - val_loss: 0.4118 - val_accuracy: 0.7885\n",
      "Epoch 27/35\n",
      "5/5 [==============================] - 0s 49ms/step - loss: 0.4126 - accuracy: 0.8205 - val_loss: 0.4011 - val_accuracy: 0.7500\n",
      "Epoch 28/35\n",
      "5/5 [==============================] - 0s 45ms/step - loss: 0.4075 - accuracy: 0.8205 - val_loss: 0.3974 - val_accuracy: 0.7500\n",
      "Epoch 29/35\n",
      "5/5 [==============================] - 0s 33ms/step - loss: 0.3996 - accuracy: 0.8141 - val_loss: 0.3885 - val_accuracy: 0.7885\n",
      "Epoch 30/35\n",
      "5/5 [==============================] - 0s 59ms/step - loss: 0.3937 - accuracy: 0.8526 - val_loss: 0.3847 - val_accuracy: 0.8269\n",
      "Epoch 31/35\n",
      "5/5 [==============================] - 0s 41ms/step - loss: 0.3914 - accuracy: 0.8526 - val_loss: 0.3780 - val_accuracy: 0.8269\n",
      "Epoch 32/35\n",
      "5/5 [==============================] - 0s 35ms/step - loss: 0.3821 - accuracy: 0.8205 - val_loss: 0.3780 - val_accuracy: 0.8269\n",
      "Epoch 33/35\n",
      "5/5 [==============================] - 0s 39ms/step - loss: 0.3748 - accuracy: 0.8269 - val_loss: 0.3690 - val_accuracy: 0.8269\n",
      "Epoch 34/35\n",
      "5/5 [==============================] - 0s 44ms/step - loss: 0.3734 - accuracy: 0.8590 - val_loss: 0.3673 - val_accuracy: 0.8462\n",
      "Epoch 35/35\n",
      "5/5 [==============================] - 0s 38ms/step - loss: 0.3635 - accuracy: 0.8590 - val_loss: 0.3604 - val_accuracy: 0.8077\n"
     ]
    }
   ],
   "source": [
    "h1 = m1.fit(x_train,y_train,validation_data=(x_test,y_test),epochs=35)"
   ]
  },
  {
   "cell_type": "code",
   "execution_count": 32,
   "id": "9153b10e",
   "metadata": {},
   "outputs": [
    {
     "data": {
      "text/html": [
       "<div>\n",
       "<style scoped>\n",
       "    .dataframe tbody tr th:only-of-type {\n",
       "        vertical-align: middle;\n",
       "    }\n",
       "\n",
       "    .dataframe tbody tr th {\n",
       "        vertical-align: top;\n",
       "    }\n",
       "\n",
       "    .dataframe thead th {\n",
       "        text-align: right;\n",
       "    }\n",
       "</style>\n",
       "<table border=\"1\" class=\"dataframe\">\n",
       "  <thead>\n",
       "    <tr style=\"text-align: right;\">\n",
       "      <th></th>\n",
       "      <th>loss</th>\n",
       "      <th>accuracy</th>\n",
       "      <th>val_loss</th>\n",
       "      <th>val_accuracy</th>\n",
       "      <th>Epochs</th>\n",
       "    </tr>\n",
       "  </thead>\n",
       "  <tbody>\n",
       "    <tr>\n",
       "      <th>30</th>\n",
       "      <td>0.391368</td>\n",
       "      <td>0.852564</td>\n",
       "      <td>0.378036</td>\n",
       "      <td>0.826923</td>\n",
       "      <td>30</td>\n",
       "    </tr>\n",
       "    <tr>\n",
       "      <th>31</th>\n",
       "      <td>0.382112</td>\n",
       "      <td>0.820513</td>\n",
       "      <td>0.377956</td>\n",
       "      <td>0.826923</td>\n",
       "      <td>31</td>\n",
       "    </tr>\n",
       "    <tr>\n",
       "      <th>32</th>\n",
       "      <td>0.374805</td>\n",
       "      <td>0.826923</td>\n",
       "      <td>0.368980</td>\n",
       "      <td>0.826923</td>\n",
       "      <td>32</td>\n",
       "    </tr>\n",
       "    <tr>\n",
       "      <th>33</th>\n",
       "      <td>0.373353</td>\n",
       "      <td>0.858974</td>\n",
       "      <td>0.367294</td>\n",
       "      <td>0.846154</td>\n",
       "      <td>33</td>\n",
       "    </tr>\n",
       "    <tr>\n",
       "      <th>34</th>\n",
       "      <td>0.363539</td>\n",
       "      <td>0.858974</td>\n",
       "      <td>0.360375</td>\n",
       "      <td>0.807692</td>\n",
       "      <td>34</td>\n",
       "    </tr>\n",
       "  </tbody>\n",
       "</table>\n",
       "</div>"
      ],
      "text/plain": [
       "        loss  accuracy  val_loss  val_accuracy  Epochs\n",
       "30  0.391368  0.852564  0.378036      0.826923      30\n",
       "31  0.382112  0.820513  0.377956      0.826923      31\n",
       "32  0.374805  0.826923  0.368980      0.826923      32\n",
       "33  0.373353  0.858974  0.367294      0.846154      33\n",
       "34  0.363539  0.858974  0.360375      0.807692      34"
      ]
     },
     "execution_count": 32,
     "metadata": {},
     "output_type": "execute_result"
    }
   ],
   "source": [
    "r1 = pd.DataFrame(h1.history)\n",
    "r1['Epochs'] = h1.epoch\n",
    "r1.tail()"
   ]
  },
  {
   "cell_type": "markdown",
   "id": "78f22941",
   "metadata": {},
   "source": [
    "#### Overfitting\n",
    "1) Models with high vraiance and low bias\n",
    "2) Model performs well on the training data and comparatilvely porrly on the test data\n",
    "\n",
    "#### Regularization\n",
    "1) It is atechnique to prevent overfitting\n",
    "\n",
    "#### Dropout Layer\n",
    "1) Dropout is a regularization technqiue for NN<br>\n",
    "2) It is technique where model randomly selects neurons and these randomly selected nuerons are dropped(ignored). They are dropped out randomly. This means their contribution to the activation of downstream neurons is temporarily removed on forward propagation and any weight update are not applied to the neron on the backward pass."
   ]
  },
  {
   "cell_type": "markdown",
   "id": "f58ba133",
   "metadata": {},
   "source": [
    "### Model - 2 (with Dropout Layer)"
   ]
  },
  {
   "cell_type": "code",
   "execution_count": 33,
   "id": "97e55653",
   "metadata": {},
   "outputs": [],
   "source": [
    "m2 = Sequential()\n",
    "m2.add(Dense(60,activation='relu',input_dim=60))\n",
    "m2.add(Dropout(0.3))\n",
    "m2.add(Dense(30,activation='relu'))\n",
    "m2.add(Dropout(0.3))\n",
    "m2.add(Dense(1,activation='sigmoid'))\n",
    "\n",
    "m2.compile(optimizer='adam',loss='binary_crossentropy',metrics=['accuracy'])"
   ]
  },
  {
   "cell_type": "code",
   "execution_count": 34,
   "id": "aa90fca7",
   "metadata": {},
   "outputs": [
    {
     "name": "stdout",
     "output_type": "stream",
     "text": [
      "Epoch 1/35\n",
      "5/5 [==============================] - 5s 303ms/step - loss: 0.6959 - accuracy: 0.4936 - val_loss: 0.6871 - val_accuracy: 0.5577\n",
      "Epoch 2/35\n",
      "5/5 [==============================] - 0s 56ms/step - loss: 0.6770 - accuracy: 0.5577 - val_loss: 0.6827 - val_accuracy: 0.5577\n",
      "Epoch 3/35\n",
      "5/5 [==============================] - 0s 50ms/step - loss: 0.6836 - accuracy: 0.6026 - val_loss: 0.6766 - val_accuracy: 0.5962\n",
      "Epoch 4/35\n",
      "5/5 [==============================] - 0s 59ms/step - loss: 0.6623 - accuracy: 0.6218 - val_loss: 0.6699 - val_accuracy: 0.5577\n",
      "Epoch 5/35\n",
      "5/5 [==============================] - 0s 56ms/step - loss: 0.6623 - accuracy: 0.5705 - val_loss: 0.6637 - val_accuracy: 0.5385\n",
      "Epoch 6/35\n",
      "5/5 [==============================] - 0s 39ms/step - loss: 0.6548 - accuracy: 0.6346 - val_loss: 0.6566 - val_accuracy: 0.6154\n",
      "Epoch 7/35\n",
      "5/5 [==============================] - 0s 34ms/step - loss: 0.6567 - accuracy: 0.5897 - val_loss: 0.6489 - val_accuracy: 0.6538\n",
      "Epoch 8/35\n",
      "5/5 [==============================] - 0s 59ms/step - loss: 0.6632 - accuracy: 0.5897 - val_loss: 0.6415 - val_accuracy: 0.7308\n",
      "Epoch 9/35\n",
      "5/5 [==============================] - 0s 58ms/step - loss: 0.6513 - accuracy: 0.6218 - val_loss: 0.6353 - val_accuracy: 0.7308\n",
      "Epoch 10/35\n",
      "5/5 [==============================] - 0s 47ms/step - loss: 0.6439 - accuracy: 0.6154 - val_loss: 0.6271 - val_accuracy: 0.7308\n",
      "Epoch 11/35\n",
      "5/5 [==============================] - 0s 38ms/step - loss: 0.6644 - accuracy: 0.5705 - val_loss: 0.6197 - val_accuracy: 0.7308\n",
      "Epoch 12/35\n",
      "5/5 [==============================] - 0s 45ms/step - loss: 0.6216 - accuracy: 0.6923 - val_loss: 0.6129 - val_accuracy: 0.7308\n",
      "Epoch 13/35\n",
      "5/5 [==============================] - 0s 52ms/step - loss: 0.6275 - accuracy: 0.6667 - val_loss: 0.6062 - val_accuracy: 0.7500\n",
      "Epoch 14/35\n",
      "5/5 [==============================] - 0s 51ms/step - loss: 0.6195 - accuracy: 0.6474 - val_loss: 0.5952 - val_accuracy: 0.7500\n",
      "Epoch 15/35\n",
      "5/5 [==============================] - 0s 71ms/step - loss: 0.6020 - accuracy: 0.7179 - val_loss: 0.5851 - val_accuracy: 0.7885\n",
      "Epoch 16/35\n",
      "5/5 [==============================] - 0s 56ms/step - loss: 0.5858 - accuracy: 0.7244 - val_loss: 0.5762 - val_accuracy: 0.7885\n",
      "Epoch 17/35\n",
      "5/5 [==============================] - 0s 67ms/step - loss: 0.6039 - accuracy: 0.6923 - val_loss: 0.5668 - val_accuracy: 0.7500\n",
      "Epoch 18/35\n",
      "5/5 [==============================] - 0s 77ms/step - loss: 0.5756 - accuracy: 0.6667 - val_loss: 0.5560 - val_accuracy: 0.7500\n",
      "Epoch 19/35\n",
      "5/5 [==============================] - 0s 43ms/step - loss: 0.5558 - accuracy: 0.7756 - val_loss: 0.5455 - val_accuracy: 0.7500\n",
      "Epoch 20/35\n",
      "5/5 [==============================] - 0s 48ms/step - loss: 0.5639 - accuracy: 0.6987 - val_loss: 0.5357 - val_accuracy: 0.7500\n",
      "Epoch 21/35\n",
      "5/5 [==============================] - 0s 42ms/step - loss: 0.5809 - accuracy: 0.6795 - val_loss: 0.5250 - val_accuracy: 0.7500\n",
      "Epoch 22/35\n",
      "5/5 [==============================] - 0s 72ms/step - loss: 0.5838 - accuracy: 0.6603 - val_loss: 0.5156 - val_accuracy: 0.7885\n",
      "Epoch 23/35\n",
      "5/5 [==============================] - 0s 74ms/step - loss: 0.5624 - accuracy: 0.7564 - val_loss: 0.5073 - val_accuracy: 0.7500\n",
      "Epoch 24/35\n",
      "5/5 [==============================] - 0s 49ms/step - loss: 0.5673 - accuracy: 0.7308 - val_loss: 0.5013 - val_accuracy: 0.7308\n",
      "Epoch 25/35\n",
      "5/5 [==============================] - 0s 44ms/step - loss: 0.5324 - accuracy: 0.7564 - val_loss: 0.4948 - val_accuracy: 0.7500\n",
      "Epoch 26/35\n",
      "5/5 [==============================] - 0s 92ms/step - loss: 0.5003 - accuracy: 0.7885 - val_loss: 0.4868 - val_accuracy: 0.8077\n",
      "Epoch 27/35\n",
      "5/5 [==============================] - 0s 82ms/step - loss: 0.5112 - accuracy: 0.7756 - val_loss: 0.4792 - val_accuracy: 0.7308\n",
      "Epoch 28/35\n",
      "5/5 [==============================] - 1s 162ms/step - loss: 0.5328 - accuracy: 0.6987 - val_loss: 0.4719 - val_accuracy: 0.7500\n",
      "Epoch 29/35\n",
      "5/5 [==============================] - 0s 93ms/step - loss: 0.5149 - accuracy: 0.7692 - val_loss: 0.4633 - val_accuracy: 0.7308\n",
      "Epoch 30/35\n",
      "5/5 [==============================] - 0s 99ms/step - loss: 0.4842 - accuracy: 0.7756 - val_loss: 0.4582 - val_accuracy: 0.7500\n",
      "Epoch 31/35\n",
      "5/5 [==============================] - 0s 41ms/step - loss: 0.4872 - accuracy: 0.7628 - val_loss: 0.4519 - val_accuracy: 0.7500\n",
      "Epoch 32/35\n",
      "5/5 [==============================] - 0s 41ms/step - loss: 0.4970 - accuracy: 0.7564 - val_loss: 0.4465 - val_accuracy: 0.7692\n",
      "Epoch 33/35\n",
      "5/5 [==============================] - 0s 54ms/step - loss: 0.5040 - accuracy: 0.7500 - val_loss: 0.4430 - val_accuracy: 0.7308\n",
      "Epoch 34/35\n",
      "5/5 [==============================] - 0s 45ms/step - loss: 0.4445 - accuracy: 0.7756 - val_loss: 0.4380 - val_accuracy: 0.7308\n",
      "Epoch 35/35\n",
      "5/5 [==============================] - 0s 55ms/step - loss: 0.4570 - accuracy: 0.8013 - val_loss: 0.4285 - val_accuracy: 0.7500\n"
     ]
    }
   ],
   "source": [
    "h2 = m2.fit(x_train,y_train,validation_data=(x_test,y_test),epochs=35)"
   ]
  },
  {
   "cell_type": "code",
   "execution_count": 35,
   "id": "35fa0ff1",
   "metadata": {},
   "outputs": [
    {
     "data": {
      "text/html": [
       "<div>\n",
       "<style scoped>\n",
       "    .dataframe tbody tr th:only-of-type {\n",
       "        vertical-align: middle;\n",
       "    }\n",
       "\n",
       "    .dataframe tbody tr th {\n",
       "        vertical-align: top;\n",
       "    }\n",
       "\n",
       "    .dataframe thead th {\n",
       "        text-align: right;\n",
       "    }\n",
       "</style>\n",
       "<table border=\"1\" class=\"dataframe\">\n",
       "  <thead>\n",
       "    <tr style=\"text-align: right;\">\n",
       "      <th></th>\n",
       "      <th>loss</th>\n",
       "      <th>accuracy</th>\n",
       "      <th>val_loss</th>\n",
       "      <th>val_accuracy</th>\n",
       "      <th>Epochs</th>\n",
       "    </tr>\n",
       "  </thead>\n",
       "  <tbody>\n",
       "    <tr>\n",
       "      <th>30</th>\n",
       "      <td>0.487211</td>\n",
       "      <td>0.762821</td>\n",
       "      <td>0.451853</td>\n",
       "      <td>0.750000</td>\n",
       "      <td>30</td>\n",
       "    </tr>\n",
       "    <tr>\n",
       "      <th>31</th>\n",
       "      <td>0.496985</td>\n",
       "      <td>0.756410</td>\n",
       "      <td>0.446544</td>\n",
       "      <td>0.769231</td>\n",
       "      <td>31</td>\n",
       "    </tr>\n",
       "    <tr>\n",
       "      <th>32</th>\n",
       "      <td>0.504006</td>\n",
       "      <td>0.750000</td>\n",
       "      <td>0.443019</td>\n",
       "      <td>0.730769</td>\n",
       "      <td>32</td>\n",
       "    </tr>\n",
       "    <tr>\n",
       "      <th>33</th>\n",
       "      <td>0.444533</td>\n",
       "      <td>0.775641</td>\n",
       "      <td>0.437976</td>\n",
       "      <td>0.730769</td>\n",
       "      <td>33</td>\n",
       "    </tr>\n",
       "    <tr>\n",
       "      <th>34</th>\n",
       "      <td>0.456997</td>\n",
       "      <td>0.801282</td>\n",
       "      <td>0.428534</td>\n",
       "      <td>0.750000</td>\n",
       "      <td>34</td>\n",
       "    </tr>\n",
       "  </tbody>\n",
       "</table>\n",
       "</div>"
      ],
      "text/plain": [
       "        loss  accuracy  val_loss  val_accuracy  Epochs\n",
       "30  0.487211  0.762821  0.451853      0.750000      30\n",
       "31  0.496985  0.756410  0.446544      0.769231      31\n",
       "32  0.504006  0.750000  0.443019      0.730769      32\n",
       "33  0.444533  0.775641  0.437976      0.730769      33\n",
       "34  0.456997  0.801282  0.428534      0.750000      34"
      ]
     },
     "execution_count": 35,
     "metadata": {},
     "output_type": "execute_result"
    }
   ],
   "source": [
    "r2 = pd.DataFrame(h2.history)\n",
    "r2['Epochs'] = h2.epoch\n",
    "r2.tail()"
   ]
  },
  {
   "cell_type": "code",
   "execution_count": null,
   "id": "0b52af30",
   "metadata": {},
   "outputs": [],
   "source": []
  },
  {
   "cell_type": "markdown",
   "id": "b7a7c647",
   "metadata": {},
   "source": [
    "### Callbacks\n",
    "\n",
    "#### EarlyStooping Callback\n",
    "1) It is another regularization technique<br>\n",
    "2) Too many epochs can lead to overfitting on the training data, whereas too few epochs may result in an underfit model. EarlyStopping is a method that allows  you to specify an aribary large number of training epochs and stop the training of the model when the model's performance stops improving after a partcular patience level is reached (Ex - when val_loss is no longer getting reduced)<br>"
   ]
  },
  {
   "cell_type": "code",
   "execution_count": 36,
   "id": "4ff24e75",
   "metadata": {},
   "outputs": [],
   "source": [
    "from sklearn.datasets import make_moons"
   ]
  },
  {
   "cell_type": "code",
   "execution_count": 49,
   "id": "8d1969ef",
   "metadata": {},
   "outputs": [
    {
     "name": "stdout",
     "output_type": "stream",
     "text": [
      "(100, 2)\n",
      "(100,)\n"
     ]
    }
   ],
   "source": [
    "x,y = make_moons(n_samples=100,noise=0.2)\n",
    "print(x.shape)\n",
    "print(y.shape)"
   ]
  },
  {
   "cell_type": "code",
   "execution_count": 50,
   "id": "45b7fcd5",
   "metadata": {},
   "outputs": [
    {
     "name": "stdout",
     "output_type": "stream",
     "text": [
      "<class 'numpy.ndarray'>\n",
      "<class 'numpy.ndarray'>\n"
     ]
    }
   ],
   "source": [
    "print(type(x))\n",
    "print(type(y))"
   ]
  },
  {
   "cell_type": "code",
   "execution_count": 51,
   "id": "40880f99",
   "metadata": {},
   "outputs": [
    {
     "name": "stdout",
     "output_type": "stream",
     "text": [
      "[[ 0.1357917   1.1281158 ]\n",
      " [ 0.1465425  -0.28735626]\n",
      " [ 0.71720791  0.43985768]\n",
      " [ 0.56197236  1.20179473]\n",
      " [ 1.98261874  0.32594058]]\n"
     ]
    }
   ],
   "source": [
    "print(x[:5])"
   ]
  },
  {
   "cell_type": "code",
   "execution_count": 52,
   "id": "2c2664e3",
   "metadata": {},
   "outputs": [
    {
     "name": "stdout",
     "output_type": "stream",
     "text": [
      "[0 1 0 0 1 0 1 0 1 0]\n"
     ]
    }
   ],
   "source": [
    "print(y[:10])"
   ]
  },
  {
   "cell_type": "code",
   "execution_count": 54,
   "id": "8fa7b19a",
   "metadata": {},
   "outputs": [
    {
     "data": {
      "image/png": "[encoded data removed]",
      "text/plain": [
       "<Figure size 432x288 with 1 Axes>"
      ]
     },
     "metadata": {
      "needs_background": "light"
     },
     "output_type": "display_data"
    }
   ],
   "source": [
    "plt.scatter(x[:,0],x[:,1],c=y)\n",
    "plt.xlabel('x1')\n",
    "plt.ylabel('x2')\n",
    "plt.show()"
   ]
  },
  {
   "cell_type": "code",
   "execution_count": 64,
   "id": "177525e1",
   "metadata": {},
   "outputs": [
    {
     "name": "stdout",
     "output_type": "stream",
     "text": [
      "(75, 2)\n",
      "(25, 2)\n",
      "(75,)\n",
      "(25,)\n"
     ]
    }
   ],
   "source": [
    "x_train2,x_test2,y_train2,y_test2 = train_test_split(x,y,test_size=0.25)\n",
    "print(x_train2.shape)\n",
    "print(x_test2.shape)\n",
    "print(y_train2.shape)\n",
    "print(y_test2.shape)"
   ]
  },
  {
   "cell_type": "markdown",
   "id": "446aafb9",
   "metadata": {},
   "source": [
    "### Model Building"
   ]
  },
  {
   "cell_type": "code",
   "execution_count": 60,
   "id": "4c10a680",
   "metadata": {},
   "outputs": [],
   "source": [
    "m2_moons = Sequential()\n",
    "m2_moons.add(Dense(100,activation='relu',input_dim=2))\n",
    "m2_moons.add(Dense(50,activation='relu'))\n",
    "m2_moons.add(Dense(1,activation='sigmoid'))\n",
    "\n",
    "m2_moons.compile(optimizer='adam',loss='binary_crossentropy',metrics=['accuracy'])"
   ]
  },
  {
   "cell_type": "code",
   "execution_count": 61,
   "id": "e63c1c12",
   "metadata": {},
   "outputs": [],
   "source": [
    "from tensorflow.keras.callbacks import EarlyStopping"
   ]
  },
  {
   "cell_type": "code",
   "execution_count": 62,
   "id": "f5b068bd",
   "metadata": {},
   "outputs": [],
   "source": [
    "es = EarlyStopping(monitor='val_loss',patience=4)"
   ]
  },
  {
   "cell_type": "code",
   "execution_count": 65,
   "id": "686b81d8",
   "metadata": {},
   "outputs": [
    {
     "name": "stdout",
     "output_type": "stream",
     "text": [
      "Epoch 1/100\n",
      "3/3 [==============================] - 4s 567ms/step - loss: 0.6838 - accuracy: 0.6000 - val_loss: 0.6485 - val_accuracy: 0.8000\n",
      "Epoch 2/100\n",
      "3/3 [==============================] - 0s 95ms/step - loss: 0.6350 - accuracy: 0.8133 - val_loss: 0.6133 - val_accuracy: 0.8000\n",
      "Epoch 3/100\n",
      "3/3 [==============================] - 0s 66ms/step - loss: 0.5917 - accuracy: 0.8267 - val_loss: 0.5815 - val_accuracy: 0.8000\n",
      "Epoch 4/100\n",
      "3/3 [==============================] - 0s 63ms/step - loss: 0.5555 - accuracy: 0.8133 - val_loss: 0.5528 - val_accuracy: 0.8000\n",
      "Epoch 5/100\n",
      "3/3 [==============================] - 0s 74ms/step - loss: 0.5231 - accuracy: 0.8133 - val_loss: 0.5272 - val_accuracy: 0.8000\n",
      "Epoch 6/100\n",
      "3/3 [==============================] - 0s 62ms/step - loss: 0.4938 - accuracy: 0.8133 - val_loss: 0.5041 - val_accuracy: 0.8000\n",
      "Epoch 7/100\n",
      "3/3 [==============================] - 0s 68ms/step - loss: 0.4686 - accuracy: 0.8133 - val_loss: 0.4825 - val_accuracy: 0.8000\n",
      "Epoch 8/100\n",
      "3/3 [==============================] - 0s 92ms/step - loss: 0.4464 - accuracy: 0.8133 - val_loss: 0.4629 - val_accuracy: 0.8000\n",
      "Epoch 9/100\n",
      "3/3 [==============================] - 0s 66ms/step - loss: 0.4253 - accuracy: 0.8133 - val_loss: 0.4452 - val_accuracy: 0.8000\n",
      "Epoch 10/100\n",
      "3/3 [==============================] - 0s 70ms/step - loss: 0.4071 - accuracy: 0.8267 - val_loss: 0.4291 - val_accuracy: 0.8400\n",
      "Epoch 11/100\n",
      "3/3 [==============================] - 0s 80ms/step - loss: 0.3902 - accuracy: 0.8267 - val_loss: 0.4146 - val_accuracy: 0.8800\n",
      "Epoch 12/100\n",
      "3/3 [==============================] - 0s 71ms/step - loss: 0.3773 - accuracy: 0.8267 - val_loss: 0.4014 - val_accuracy: 0.8800\n",
      "Epoch 13/100\n",
      "3/3 [==============================] - 0s 65ms/step - loss: 0.3632 - accuracy: 0.8267 - val_loss: 0.3896 - val_accuracy: 0.8800\n",
      "Epoch 14/100\n",
      "3/3 [==============================] - 0s 119ms/step - loss: 0.3536 - accuracy: 0.8400 - val_loss: 0.3796 - val_accuracy: 0.8800\n",
      "Epoch 15/100\n",
      "3/3 [==============================] - 0s 64ms/step - loss: 0.3434 - accuracy: 0.8400 - val_loss: 0.3709 - val_accuracy: 0.8800\n",
      "Epoch 16/100\n",
      "3/3 [==============================] - 0s 62ms/step - loss: 0.3360 - accuracy: 0.8400 - val_loss: 0.3627 - val_accuracy: 0.8800\n",
      "Epoch 17/100\n",
      "3/3 [==============================] - 0s 76ms/step - loss: 0.3283 - accuracy: 0.8400 - val_loss: 0.3548 - val_accuracy: 0.8800\n",
      "Epoch 18/100\n",
      "3/3 [==============================] - 0s 73ms/step - loss: 0.3228 - accuracy: 0.8400 - val_loss: 0.3476 - val_accuracy: 0.8800\n",
      "Epoch 19/100\n",
      "3/3 [==============================] - 0s 61ms/step - loss: 0.3161 - accuracy: 0.8400 - val_loss: 0.3432 - val_accuracy: 0.8800\n",
      "Epoch 20/100\n",
      "3/3 [==============================] - 0s 80ms/step - loss: 0.3120 - accuracy: 0.8533 - val_loss: 0.3388 - val_accuracy: 0.8400\n",
      "Epoch 21/100\n",
      "3/3 [==============================] - 0s 65ms/step - loss: 0.3076 - accuracy: 0.8533 - val_loss: 0.3352 - val_accuracy: 0.8400\n",
      "Epoch 22/100\n",
      "3/3 [==============================] - 0s 64ms/step - loss: 0.3035 - accuracy: 0.8533 - val_loss: 0.3315 - val_accuracy: 0.8400\n",
      "Epoch 23/100\n",
      "3/3 [==============================] - 0s 79ms/step - loss: 0.2999 - accuracy: 0.8533 - val_loss: 0.3289 - val_accuracy: 0.8400\n",
      "Epoch 24/100\n",
      "3/3 [==============================] - 0s 71ms/step - loss: 0.2969 - accuracy: 0.8533 - val_loss: 0.3276 - val_accuracy: 0.8400\n",
      "Epoch 25/100\n",
      "3/3 [==============================] - 0s 62ms/step - loss: 0.2935 - accuracy: 0.8533 - val_loss: 0.3245 - val_accuracy: 0.8400\n",
      "Epoch 26/100\n",
      "3/3 [==============================] - 0s 87ms/step - loss: 0.2905 - accuracy: 0.8533 - val_loss: 0.3206 - val_accuracy: 0.8400\n",
      "Epoch 27/100\n",
      "3/3 [==============================] - 0s 64ms/step - loss: 0.2880 - accuracy: 0.8533 - val_loss: 0.3166 - val_accuracy: 0.8400\n",
      "Epoch 28/100\n",
      "3/3 [==============================] - 0s 75ms/step - loss: 0.2849 - accuracy: 0.8533 - val_loss: 0.3131 - val_accuracy: 0.8400\n",
      "Epoch 29/100\n",
      "3/3 [==============================] - 0s 82ms/step - loss: 0.2832 - accuracy: 0.8533 - val_loss: 0.3113 - val_accuracy: 0.8400\n",
      "Epoch 30/100\n",
      "3/3 [==============================] - 0s 70ms/step - loss: 0.2809 - accuracy: 0.8533 - val_loss: 0.3127 - val_accuracy: 0.8400\n",
      "Epoch 31/100\n",
      "3/3 [==============================] - 0s 72ms/step - loss: 0.2781 - accuracy: 0.8533 - val_loss: 0.3127 - val_accuracy: 0.8400\n",
      "Epoch 32/100\n",
      "3/3 [==============================] - 0s 98ms/step - loss: 0.2758 - accuracy: 0.8533 - val_loss: 0.3140 - val_accuracy: 0.8400\n",
      "Epoch 33/100\n",
      "3/3 [==============================] - 0s 68ms/step - loss: 0.2748 - accuracy: 0.8533 - val_loss: 0.3163 - val_accuracy: 0.8400\n"
     ]
    }
   ],
   "source": [
    "h2_moons = m2_moons.fit(x_train2,y_train2,validation_data=(x_test2,y_test2),\n",
    "                        epochs=100,callbacks=[es])"
   ]
  },
  {
   "cell_type": "code",
   "execution_count": 66,
   "id": "2ce8c1fe",
   "metadata": {},
   "outputs": [
    {
     "data": {
      "text/html": [
       "<div>\n",
       "<style scoped>\n",
       "    .dataframe tbody tr th:only-of-type {\n",
       "        vertical-align: middle;\n",
       "    }\n",
       "\n",
       "    .dataframe tbody tr th {\n",
       "        vertical-align: top;\n",
       "    }\n",
       "\n",
       "    .dataframe thead th {\n",
       "        text-align: right;\n",
       "    }\n",
       "</style>\n",
       "<table border=\"1\" class=\"dataframe\">\n",
       "  <thead>\n",
       "    <tr style=\"text-align: right;\">\n",
       "      <th></th>\n",
       "      <th>loss</th>\n",
       "      <th>accuracy</th>\n",
       "      <th>val_loss</th>\n",
       "      <th>val_accuracy</th>\n",
       "      <th>Epcohs</th>\n",
       "    </tr>\n",
       "  </thead>\n",
       "  <tbody>\n",
       "    <tr>\n",
       "      <th>26</th>\n",
       "      <td>0.288043</td>\n",
       "      <td>0.853333</td>\n",
       "      <td>0.316600</td>\n",
       "      <td>0.84</td>\n",
       "      <td>26</td>\n",
       "    </tr>\n",
       "    <tr>\n",
       "      <th>27</th>\n",
       "      <td>0.284906</td>\n",
       "      <td>0.853333</td>\n",
       "      <td>0.313130</td>\n",
       "      <td>0.84</td>\n",
       "      <td>27</td>\n",
       "    </tr>\n",
       "    <tr>\n",
       "      <th>28</th>\n",
       "      <td>0.283218</td>\n",
       "      <td>0.853333</td>\n",
       "      <td>0.311312</td>\n",
       "      <td>0.84</td>\n",
       "      <td>28</td>\n",
       "    </tr>\n",
       "    <tr>\n",
       "      <th>29</th>\n",
       "      <td>0.280856</td>\n",
       "      <td>0.853333</td>\n",
       "      <td>0.312684</td>\n",
       "      <td>0.84</td>\n",
       "      <td>29</td>\n",
       "    </tr>\n",
       "    <tr>\n",
       "      <th>30</th>\n",
       "      <td>0.278117</td>\n",
       "      <td>0.853333</td>\n",
       "      <td>0.312684</td>\n",
       "      <td>0.84</td>\n",
       "      <td>30</td>\n",
       "    </tr>\n",
       "    <tr>\n",
       "      <th>31</th>\n",
       "      <td>0.275821</td>\n",
       "      <td>0.853333</td>\n",
       "      <td>0.313966</td>\n",
       "      <td>0.84</td>\n",
       "      <td>31</td>\n",
       "    </tr>\n",
       "    <tr>\n",
       "      <th>32</th>\n",
       "      <td>0.274818</td>\n",
       "      <td>0.853333</td>\n",
       "      <td>0.316309</td>\n",
       "      <td>0.84</td>\n",
       "      <td>32</td>\n",
       "    </tr>\n",
       "  </tbody>\n",
       "</table>\n",
       "</div>"
      ],
      "text/plain": [
       "        loss  accuracy  val_loss  val_accuracy  Epcohs\n",
       "26  0.288043  0.853333  0.316600          0.84      26\n",
       "27  0.284906  0.853333  0.313130          0.84      27\n",
       "28  0.283218  0.853333  0.311312          0.84      28\n",
       "29  0.280856  0.853333  0.312684          0.84      29\n",
       "30  0.278117  0.853333  0.312684          0.84      30\n",
       "31  0.275821  0.853333  0.313966          0.84      31\n",
       "32  0.274818  0.853333  0.316309          0.84      32"
      ]
     },
     "execution_count": 66,
     "metadata": {},
     "output_type": "execute_result"
    }
   ],
   "source": [
    "r2_moons = pd.DataFrame(h2_moons.history)\n",
    "r2_moons['Epcohs'] = h2_moons.epoch\n",
    "r2_moons.tail(7)"
   ]
  },
  {
   "cell_type": "code",
   "execution_count": 68,
   "id": "86b23e61",
   "metadata": {},
   "outputs": [
    {
     "data": {
      "image/png": "[encoded data removed]",
      "text/plain": [
       "<Figure size 432x288 with 1 Axes>"
      ]
     },
     "metadata": {
      "needs_background": "light"
     },
     "output_type": "display_data"
    }
   ],
   "source": [
    "plt.plot(r2_moons['Epcohs'],r2_moons['loss'],label='Training loss')\n",
    "plt.plot(r2_moons['Epcohs'],r2_moons['val_loss'],label='Testing loss')\n",
    "plt.title('Epochs vs Loss')\n",
    "plt.xlabel('Epcohs')\n",
    "plt.ylabel('Loss')\n",
    "plt.legend()\n",
    "plt.grid()\n",
    "plt.show()"
   ]
  },
  {
   "cell_type": "code",
   "execution_count": 69,
   "id": "d170dcdc",
   "metadata": {},
   "outputs": [
    {
     "data": {
      "image/png": "[encoded data removed]",
      "text/plain": [
       "<Figure size 432x288 with 1 Axes>"
      ]
     },
     "metadata": {
      "needs_background": "light"
     },
     "output_type": "display_data"
    }
   ],
   "source": [
    "plt.plot(r2_moons['Epcohs'],r2_moons['accuracy'],label='Training accuracy')\n",
    "plt.plot(r2_moons['Epcohs'],r2_moons['val_accuracy'],label='Testing accuracy')\n",
    "plt.title('Epochs vs Accuracy')\n",
    "plt.xlabel('Epcohs')\n",
    "plt.ylabel('Accuracy')\n",
    "plt.legend()\n",
    "plt.grid()\n",
    "plt.show()"
   ]
  },
  {
   "cell_type": "code",
   "execution_count": 72,
   "id": "f73613ae",
   "metadata": {},
   "outputs": [
    {
     "name": "stdout",
     "output_type": "stream",
     "text": [
      "[[0.05033463]\n",
      " [0.05601725]\n",
      " [0.10194248]\n",
      " [0.61806303]\n",
      " [0.03247666]\n",
      " [0.30620164]\n",
      " [0.18490237]\n",
      " [0.9678253 ]\n",
      " [0.72954774]\n",
      " [0.07463399]\n",
      " [0.9335668 ]\n",
      " [0.8013202 ]\n",
      " [0.6350776 ]\n",
      " [0.9706733 ]\n",
      " [0.85880405]\n",
      " [0.28576648]\n",
      " [0.813161  ]\n",
      " [0.26071456]\n",
      " [0.13137531]\n",
      " [0.48642653]\n",
      " [0.06614754]\n",
      " [0.07479128]\n",
      " [0.34446517]\n",
      " [0.9559003 ]\n",
      " [0.60974693]]\n"
     ]
    }
   ],
   "source": [
    "ypred_m2_moons = m2_moons.predict(x_test2)\n",
    "print(ypred_m2_moons)"
   ]
  },
  {
   "cell_type": "code",
   "execution_count": 73,
   "id": "b56cd236",
   "metadata": {},
   "outputs": [
    {
     "name": "stdout",
     "output_type": "stream",
     "text": [
      "[0, 0, 0, 1, 0, 0, 0, 1, 1, 0, 1, 1, 1, 1, 1, 0, 1, 0, 0, 0, 0, 0, 0, 1, 1]\n"
     ]
    }
   ],
   "source": [
    "ypred_moons = [1 if i>0.5 else 0 for i in ypred_m2_moons]\n",
    "print(ypred_moons)"
   ]
  },
  {
   "cell_type": "code",
   "execution_count": 75,
   "id": "11e2f68d",
   "metadata": {},
   "outputs": [
    {
     "name": "stdout",
     "output_type": "stream",
     "text": [
      "[0 0 0 0 0 0 0 1 1 0 1 1 1 1 1 1 1 1 0 1 0 0 0 1 1]\n"
     ]
    }
   ],
   "source": [
    "print(y_test2)"
   ]
  },
  {
   "cell_type": "code",
   "execution_count": 77,
   "id": "5e2b62ed",
   "metadata": {},
   "outputs": [
    {
     "name": "stdout",
     "output_type": "stream",
     "text": [
      "[[11  1]\n",
      " [ 3 10]]\n",
      "              precision    recall  f1-score   support\n",
      "\n",
      "           0       0.79      0.92      0.85        12\n",
      "           1       0.91      0.77      0.83        13\n",
      "\n",
      "    accuracy                           0.84        25\n",
      "   macro avg       0.85      0.84      0.84        25\n",
      "weighted avg       0.85      0.84      0.84        25\n",
      "\n"
     ]
    }
   ],
   "source": [
    "cm2 = confusion_matrix(y_test2,ypred_moons)\n",
    "print(cm2)\n",
    "print(classification_report(y_test2,ypred_moons))"
   ]
  },
  {
   "cell_type": "code",
   "execution_count": null,
   "id": "220519de",
   "metadata": {},
   "outputs": [],
   "source": []
  }
 ],
 "metadata": {
  "kernelspec": {
   "display_name": "Python 3",
   "language": "python",
   "name": "python3"
  },
  "language_info": {
   "codemirror_mode": {
    "name": "ipython",
    "version": 3
   },
   "file_extension": ".py",
   "mimetype": "text/x-python",
   "name": "python",
   "nbconvert_exporter": "python",
   "pygments_lexer": "ipython3",
   "version": "3.8.8"
  }
 },
 "nbformat": 4,
 "nbformat_minor": 5
}
