{
 "cells": [
  {
   "cell_type": "markdown",
   "metadata": {},
   "source": [
    "### Terminologies"
   ]
  },
  {
   "cell_type": "markdown",
   "metadata": {},
   "source": [
    "<b>1) Bais</b> – It tells how far the predicted value is from the actual value. \n",
    "Model with high bias pays very little attention to the training data and oversimplifies \n",
    "the model. It always leads to high error on training and test data. This is called underfitting.\n",
    "\n",
    "<b>2) Variance</b> – It tells how scattered the predicted value is from actual value. \n",
    "Model with high variance pays a lot of attention to training data and does not \n",
    "generalize on the data which it hasn’t seen before(test_data). As a result, such models perform \n",
    "very well on training data but has high error rates on test data. \n",
    "This is called overfittting\n",
    "\n",
    "<b>3) Underfitting</b> - Underfitting happens when a model unable to capture the underlying\n",
    "pattern of the data. These models usually have <b>high bias and low variance</b>. \n",
    "It happens when we have very less amount of data to build an accurate model or when we \n",
    "try to build a linear model with a nonlinear data.\n",
    "\n",
    "<b>4) Overfitting</b> - It happens when our model captures the noise along with the \n",
    "underlying pattern in data. It happens when we train our model with a lot of noisy dataset. \n",
    "These models have<b> low bias and high variance</b>. These models are very complex like \n",
    "Decision trees which are prone to overfitting.\n"
   ]
  },
  {
   "cell_type": "markdown",
   "metadata": {},
   "source": [
    "Dark Red circle - Actual value<br>\n",
    "Blue Dots - Predicted value<br>\n",
    "<img src=\"bias_variance_tradeoff.png\" height=\"350\" width=\"350\">"
   ]
  },
  {
   "cell_type": "code",
   "execution_count": null,
   "metadata": {},
   "outputs": [],
   "source": []
  }
 ],
 "metadata": {
  "kernelspec": {
   "display_name": "Python 3",
   "language": "python",
   "name": "python3"
  },
  "language_info": {
   "codemirror_mode": {
    "name": "ipython",
    "version": 3
   },
   "file_extension": ".py",
   "mimetype": "text/x-python",
   "name": "python",
   "nbconvert_exporter": "python",
   "pygments_lexer": "ipython3",
   "version": "3.8.8"
  }
 },
 "nbformat": 4,
 "nbformat_minor": 2
}
