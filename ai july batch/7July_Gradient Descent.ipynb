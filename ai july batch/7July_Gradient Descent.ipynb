{
 "cells": [
  {
   "cell_type": "code",
   "execution_count": 1,
   "id": "f2b5f34d",
   "metadata": {},
   "outputs": [],
   "source": [
    "import numpy as np  # numcerical/scietific computations\n",
    "import pandas as pd  # data processing\n",
    "import matplotlib.pyplot as plt  # vizualization"
   ]
  },
  {
   "cell_type": "code",
   "execution_count": 3,
   "id": "9f1b13b1",
   "metadata": {},
   "outputs": [
    {
     "name": "stdout",
     "output_type": "stream",
     "text": [
      "{'CGPA': [8.3, 9.4, 7.5, 8.9, 9.7, 6.4], 'CTC': [4.35, 5.4, 3.5, 3.75, 4.5, 3.5]}\n"
     ]
    }
   ],
   "source": [
    "d = {'CGPA':[8.3,9.4,7.5,8.9,9.7,6.4],\n",
    "    'CTC':[4.35,5.40,3.50,3.75,4.5,3.5]}\n",
    "\n",
    "# CGPA  is out of 10\n",
    "# CTC is in lakhs\n",
    "print(d)"
   ]
  },
  {
   "cell_type": "code",
   "execution_count": 5,
   "id": "ff26b9f5",
   "metadata": {},
   "outputs": [
    {
     "data": {
      "text/html": [
       "<div>\n",
       "<style scoped>\n",
       "    .dataframe tbody tr th:only-of-type {\n",
       "        vertical-align: middle;\n",
       "    }\n",
       "\n",
       "    .dataframe tbody tr th {\n",
       "        vertical-align: top;\n",
       "    }\n",
       "\n",
       "    .dataframe thead th {\n",
       "        text-align: right;\n",
       "    }\n",
       "</style>\n",
       "<table border=\"1\" class=\"dataframe\">\n",
       "  <thead>\n",
       "    <tr style=\"text-align: right;\">\n",
       "      <th></th>\n",
       "      <th>CGPA</th>\n",
       "      <th>CTC</th>\n",
       "    </tr>\n",
       "  </thead>\n",
       "  <tbody>\n",
       "    <tr>\n",
       "      <th>0</th>\n",
       "      <td>8.3</td>\n",
       "      <td>4.35</td>\n",
       "    </tr>\n",
       "    <tr>\n",
       "      <th>1</th>\n",
       "      <td>9.4</td>\n",
       "      <td>5.40</td>\n",
       "    </tr>\n",
       "    <tr>\n",
       "      <th>2</th>\n",
       "      <td>7.5</td>\n",
       "      <td>3.50</td>\n",
       "    </tr>\n",
       "    <tr>\n",
       "      <th>3</th>\n",
       "      <td>8.9</td>\n",
       "      <td>3.75</td>\n",
       "    </tr>\n",
       "    <tr>\n",
       "      <th>4</th>\n",
       "      <td>9.7</td>\n",
       "      <td>4.50</td>\n",
       "    </tr>\n",
       "    <tr>\n",
       "      <th>5</th>\n",
       "      <td>6.4</td>\n",
       "      <td>3.50</td>\n",
       "    </tr>\n",
       "  </tbody>\n",
       "</table>\n",
       "</div>"
      ],
      "text/plain": [
       "   CGPA   CTC\n",
       "0   8.3  4.35\n",
       "1   9.4  5.40\n",
       "2   7.5  3.50\n",
       "3   8.9  3.75\n",
       "4   9.7  4.50\n",
       "5   6.4  3.50"
      ]
     },
     "execution_count": 5,
     "metadata": {},
     "output_type": "execute_result"
    }
   ],
   "source": [
    "df = pd.DataFrame(d)\n",
    "df"
   ]
  },
  {
   "cell_type": "markdown",
   "id": "29c65547",
   "metadata": {},
   "source": [
    "#### DataFrame vs Series\n",
    "<b>1) DataFrame </b><br>\n",
    "a) It consists of rows and columns. <br>\n",
    "b) Dataframe can contain just 1 column only<br>\n",
    "c) Every dataframe will bear index.<br>\n",
    "\n",
    "<b>2) Series</b><br>\n",
    "a) Single column data is represented in series.<br>\n",
    "b) Every Series will bear index."
   ]
  },
  {
   "cell_type": "markdown",
   "id": "6c3de7b3",
   "metadata": {},
   "source": [
    "### Gradient Descent Implementation"
   ]
  },
  {
   "cell_type": "code",
   "execution_count": 6,
   "id": "0bf9d7b4",
   "metadata": {},
   "outputs": [],
   "source": [
    "# Model accpets\n",
    "# x = DataFrame or a 2d numpy array\n",
    "# y = Series or 1d numpy array"
   ]
  },
  {
   "cell_type": "code",
   "execution_count": 18,
   "id": "fb86f899",
   "metadata": {},
   "outputs": [
    {
     "name": "stdout",
     "output_type": "stream",
     "text": [
      "<class 'pandas.core.frame.DataFrame'>\n"
     ]
    },
    {
     "data": {
      "text/html": [
       "<div>\n",
       "<style scoped>\n",
       "    .dataframe tbody tr th:only-of-type {\n",
       "        vertical-align: middle;\n",
       "    }\n",
       "\n",
       "    .dataframe tbody tr th {\n",
       "        vertical-align: top;\n",
       "    }\n",
       "\n",
       "    .dataframe thead th {\n",
       "        text-align: right;\n",
       "    }\n",
       "</style>\n",
       "<table border=\"1\" class=\"dataframe\">\n",
       "  <thead>\n",
       "    <tr style=\"text-align: right;\">\n",
       "      <th></th>\n",
       "      <th>CTC</th>\n",
       "      <th>CGPA</th>\n",
       "    </tr>\n",
       "  </thead>\n",
       "  <tbody>\n",
       "    <tr>\n",
       "      <th>0</th>\n",
       "      <td>4.35</td>\n",
       "      <td>8.3</td>\n",
       "    </tr>\n",
       "    <tr>\n",
       "      <th>1</th>\n",
       "      <td>5.40</td>\n",
       "      <td>9.4</td>\n",
       "    </tr>\n",
       "    <tr>\n",
       "      <th>2</th>\n",
       "      <td>3.50</td>\n",
       "      <td>7.5</td>\n",
       "    </tr>\n",
       "    <tr>\n",
       "      <th>3</th>\n",
       "      <td>3.75</td>\n",
       "      <td>8.9</td>\n",
       "    </tr>\n",
       "    <tr>\n",
       "      <th>4</th>\n",
       "      <td>4.50</td>\n",
       "      <td>9.7</td>\n",
       "    </tr>\n",
       "    <tr>\n",
       "      <th>5</th>\n",
       "      <td>3.50</td>\n",
       "      <td>6.4</td>\n",
       "    </tr>\n",
       "  </tbody>\n",
       "</table>\n",
       "</div>"
      ],
      "text/plain": [
       "    CTC  CGPA\n",
       "0  4.35   8.3\n",
       "1  5.40   9.4\n",
       "2  3.50   7.5\n",
       "3  3.75   8.9\n",
       "4  4.50   9.7\n",
       "5  3.50   6.4"
      ]
     },
     "execution_count": 18,
     "metadata": {},
     "output_type": "execute_result"
    }
   ],
   "source": [
    "w = df[['CTC','CGPA']]\n",
    "print(type(w))\n",
    "w"
   ]
  },
  {
   "cell_type": "code",
   "execution_count": 19,
   "id": "18ee7a15",
   "metadata": {},
   "outputs": [
    {
     "name": "stdout",
     "output_type": "stream",
     "text": [
      "<class 'pandas.core.frame.DataFrame'>\n",
      "<class 'pandas.core.series.Series'>\n"
     ]
    }
   ],
   "source": [
    "x = df[['CGPA']]  # x is df\n",
    "y = df['CTC']     # y is series\n",
    "print(type(x))\n",
    "print(type(y))"
   ]
  },
  {
   "cell_type": "code",
   "execution_count": 20,
   "id": "c90f2ef1",
   "metadata": {},
   "outputs": [
    {
     "name": "stdout",
     "output_type": "stream",
     "text": [
      "(6, 1)\n",
      "(6,)\n"
     ]
    }
   ],
   "source": [
    "print(x.shape)\n",
    "print(y.shape)"
   ]
  },
  {
   "cell_type": "code",
   "execution_count": 21,
   "id": "4ddc99ab",
   "metadata": {},
   "outputs": [
    {
     "name": "stdout",
     "output_type": "stream",
     "text": [
      "<class 'numpy.ndarray'>\n",
      "<class 'numpy.ndarray'>\n",
      "(6, 1)\n",
      "(6,)\n"
     ]
    }
   ],
   "source": [
    "x = x.values\n",
    "y = y.values\n",
    "print(type(x))\n",
    "print(type(y))\n",
    "print(x.shape)\n",
    "print(y.shape)"
   ]
  },
  {
   "cell_type": "code",
   "execution_count": 22,
   "id": "b887bce7",
   "metadata": {},
   "outputs": [],
   "source": [
    "# ypred = mx + c\n",
    "# Loss = (1/n)*sum((yi-ypredi)^2)\n",
    "# Loss(m,c) = (1/n)*sum((yi - (mxi + c))^2)\n",
    "# L(m,c) = (1/n)*sum((yi - (mxi + c))^2)\n",
    "# dL/dm = -(2/n)* sum(yi - (mxi + c))*xi => Partial derivative of L wrt m\n",
    "# dL/dc = -(2/n)* sum(yi - (mxi + c))    => Partial derivative of L wrt m\n",
    "\n",
    "# updated_m = m - alpha*(dL/dm)\n",
    "# updated_c = c - alpha*(dL/dc)"
   ]
  },
  {
   "cell_type": "markdown",
   "id": "e69f4132",
   "metadata": {},
   "source": [
    "#### Applying Gradient Descent"
   ]
  },
  {
   "cell_type": "code",
   "execution_count": 32,
   "id": "f8d1f120",
   "metadata": {},
   "outputs": [],
   "source": [
    "cost_val =[]\n",
    "# params_m,params_c = [],[]\n",
    "# lr = learning_rate,\n",
    "# epochs = no of iterations\n",
    "def grad_desc(x,y,lr,epochs):\n",
    "    m,c=1,1\n",
    "    for i in range(epochs):\n",
    "        print(f'm is {m} and b is {c}')\n",
    "#         params_m.append(m)\n",
    "#         params_c.append(c)\n",
    "        ypred = np.dot(m,x.T) + c\n",
    "        loss = np.mean(np.square(y - ypred))\n",
    "        loss_m = -(2/len(x))*np.sum((y - ypred)*x.T)\n",
    "        loss_c = -(2/len(x))*np.sum((y - ypred))\n",
    "        m = m - lr*loss_m\n",
    "        c = c - lr*loss_c\n",
    "        cost_val.append(loss)\n",
    "        print(f'ypred',ypred)\n",
    "        print(f'Cost or Loss or Error',loss)\n",
    "        print(f'loss_m {loss_m} loss_c {loss_c}')\n",
    "        print(f'Iteration {i} ends here')\n",
    "        print('-'*75)"
   ]
  },
  {
   "cell_type": "code",
   "execution_count": 33,
   "id": "fe57aea4",
   "metadata": {},
   "outputs": [
    {
     "name": "stdout",
     "output_type": "stream",
     "text": [
      "m is 1 and b is 1\n",
      "ypred [[ 9.3 10.4  8.5  9.9 10.7  7.4]]\n",
      "Cost or Loss or Error 27.662500000000005\n",
      "loss_m 88.47333333333333 loss_c 10.4\n",
      "Iteration 0 ends here\n",
      "---------------------------------------------------------------------------\n",
      "m is 0.9115266666666667 and b is 0.9896\n",
      "ypred [[8.55527133 9.55795067 7.82605    9.10218733 9.83140867 6.82337067]]\n",
      "Cost or Loss or Error 20.300364924341924\n",
      "loss_m 75.68418897777778 loss_c 8.898746222222224\n",
      "Iteration 1 ends here\n",
      "---------------------------------------------------------------------------\n",
      "m is 0.835842477688889 and b is 0.9807012537777778\n",
      "ypred [[7.91819382 8.83762054 7.24951984 8.41969931 9.08837329 6.33009311]]\n",
      "Cost or Loss or Error 14.912804862988812\n",
      "loss_m 64.74372706528119 loss_c 7.614499967549631\n",
      "Iteration 2 ends here\n",
      "---------------------------------------------------------------------------\n",
      "m is 0.7710987506236078 and b is 0.9730867538102282\n",
      "ypred [[7.37320638 8.22141501 6.75632738 7.83586563 8.45274463 5.90811876]]\n",
      "Cost or Loss or Error 10.970225267926153\n",
      "loss_m 55.38471886934264 loss_c 6.515892601388828\n",
      "Iteration 3 ends here\n",
      "---------------------------------------------------------------------------\n",
      "m is 0.7157140317542652 and b is 0.9665708612088394\n",
      "ypred [[6.90699732 7.69428276 6.3344261  7.33642574 7.90899697 5.54714066]]\n",
      "Cost or Loss or Error 8.085072477536242\n",
      "loss_m 47.37856381862941 loss_c 5.576089853772382\n",
      "Iteration 4 ends here\n",
      "---------------------------------------------------------------------------\n",
      "m is 0.6683354679356358 and b is 0.9609947713550671\n",
      "ypred [[6.50817916 7.24334817 5.97351078 6.90918044 7.44384881 5.23834177]]\n",
      "Cost or Loss or Error 5.973737377645963\n",
      "loss_m 40.52970576205732 loss_c 4.772136372833107\n",
      "Iteration 5 ends here\n",
      "---------------------------------------------------------------------------\n",
      "m is 0.6278057621735785 and b is 0.9562226349822339\n",
      "ypred [[6.16701046 6.8575968  5.66476585 6.54369392 7.04593853 4.97417951]]\n",
      "Cost or Loss or Error 4.42867676170603\n",
      "loss_m 34.67085636782603 loss_c 4.084395023669016\n",
      "Iteration 6 ends here\n",
      "---------------------------------------------------------------------------\n",
      "m is 0.5931349058057525 and b is 0.952138239958565\n",
      "ypred [[5.87515796 6.52760635 5.40065003 6.2310389  6.70554683 4.74820164]]\n",
      "Cost or Loss or Error 3.2980119331860163\n",
      "loss_m 29.658908984462872 loss_c 3.4960672370667205\n",
      "Iteration 7 ends here\n",
      "---------------------------------------------------------------------------\n",
      "m is 0.5634759968212896 and b is 0.9486421727214982\n",
      "ypred [[5.62549295 6.24531654 5.17471215 5.96357854 6.41435934 4.55488855]]\n",
      "Cost or Loss or Error 2.4705991025911778\n",
      "loss_m 25.371443156964677 loss_c 2.9927826922525753\n",
      "Iteration 8 ends here\n",
      "---------------------------------------------------------------------------\n",
      "m is 0.5381045536643249 and b is 0.9456493900292456\n",
      "ypred [[5.41191719 6.00383219 4.98143354 5.73477992 6.16526356 4.38951853]]\n",
      "Cost or Loss or Error 1.8651040062923796\n",
      "loss_m 21.703734418306574 loss_c 2.5622483113748604\n",
      "Iteration 9 ends here\n",
      "---------------------------------------------------------------------------\n"
     ]
    }
   ],
   "source": [
    "grad_desc(x,y,lr=0.001,epochs=10)"
   ]
  },
  {
   "cell_type": "code",
   "execution_count": 35,
   "id": "3fd6fef2",
   "metadata": {},
   "outputs": [
    {
     "name": "stdout",
     "output_type": "stream",
     "text": [
      "[27.662500000000005, 20.300364924341924, 14.912804862988812, 10.970225267926153, 8.085072477536242, 5.973737377645963, 4.42867676170603, 3.2980119331860163, 2.4705991025911778, 1.8651040062923796]\n"
     ]
    }
   ],
   "source": [
    "print(cost_val)"
   ]
  },
  {
   "cell_type": "code",
   "execution_count": 37,
   "id": "05adfcb8",
   "metadata": {},
   "outputs": [
    {
     "data": {
      "image/png": "[encoded data removed]",
      "text/plain": [
       "<Figure size 432x288 with 1 Axes>"
      ]
     },
     "metadata": {
      "needs_background": "light"
     },
     "output_type": "display_data"
    }
   ],
   "source": [
    "plt.plot(list(range(0,10)),cost_val)\n",
    "plt.xlabel('No of Iterations')\n",
    "plt.ylabel('Cost or Loss or Error')\n",
    "plt.grid()\n",
    "plt.show()"
   ]
  },
  {
   "cell_type": "code",
   "execution_count": 40,
   "id": "f42379d3",
   "metadata": {},
   "outputs": [
    {
     "data": {
      "text/plain": [
       "array([0.20005691])"
      ]
     },
     "execution_count": 40,
     "metadata": {},
     "output_type": "execute_result"
    }
   ],
   "source": [
    "np.random.random(1)"
   ]
  },
  {
   "cell_type": "code",
   "execution_count": 41,
   "id": "36d63200",
   "metadata": {},
   "outputs": [],
   "source": [
    "cost_val =[]\n",
    "# params_m,params_c = [],[]\n",
    "# lr = learning_rate,\n",
    "# epochs = no of iterations\n",
    "def grad_desc_m2(x,y,lr,epochs):\n",
    "    m,c = np.random.random(1),np.random.random(1)\n",
    "    for i in range(epochs):\n",
    "        print(f'm is {m} and b is {c}')\n",
    "#         params_m.append(m)\n",
    "#         params_c.append(c)\n",
    "        ypred = np.dot(m,x.T) + c\n",
    "        loss = np.mean(np.square(y - ypred))\n",
    "        loss_m = -(2/len(x))*np.sum((y - ypred)*x.T)\n",
    "        loss_c = -(2/len(x))*np.sum((y - ypred))\n",
    "        m = m - lr*loss_m\n",
    "        c = c - lr*loss_c\n",
    "        cost_val.append(loss)\n",
    "        print(f'ypred',ypred)\n",
    "        print(f'Cost or Loss or Error',loss)\n",
    "        print(f'loss_m {loss_m} loss_c {loss_c}')\n",
    "        print(f'Iteration {i} ends here')\n",
    "        print('-'*75)"
   ]
  },
  {
   "cell_type": "code",
   "execution_count": 42,
   "id": "a6dc95e0",
   "metadata": {},
   "outputs": [
    {
     "name": "stdout",
     "output_type": "stream",
     "text": [
      "m is [0.37245147] and b is [0.145169]\n",
      "ypred [3.23651624 3.64621286 2.93855506 3.45998712 3.7579483  2.52885844]\n",
      "Cost or Loss or Error 1.0347833289293769\n",
      "loss_m -15.310891166786693 loss_c -1.810640661128609\n",
      "Iteration 0 ends here\n",
      "---------------------------------------------------------------------------\n",
      "m is [0.38776237] and b is [0.14697965]\n",
      "ypred [3.36540728 3.79194588 3.05519738 3.59806469 3.90827459 2.62865878]\n",
      "Cost or Loss or Error 0.8142615143919917\n",
      "loss_m -13.097464177888911 loss_c -1.55081713428212\n",
      "Iteration 1 ends here\n",
      "---------------------------------------------------------------------------\n",
      "m is [0.40085983] and b is [0.14853046]\n",
      "ypred [3.47566705 3.91661286 3.15497918 3.71618294 4.03687081 2.71403337]\n",
      "Cost or Loss or Error 0.6528851141667271\n",
      "loss_m -11.203990078930673 loss_c -1.3285512661035481\n",
      "Iteration 2 ends here\n",
      "---------------------------------------------------------------------------\n",
      "m is [0.41206382] and b is [0.14985901]\n",
      "ypred [3.56998871 4.02325892 3.24033766 3.81722701 4.14687806 2.78706746]\n",
      "Cost or Loss or Error 0.53479092289223\n",
      "loss_m -9.58421938902341 loss_c -1.1384140629172343\n",
      "Iteration 3 ends here\n",
      "---------------------------------------------------------------------------\n",
      "m is [0.42164804] and b is [0.15099743]\n",
      "ypred [3.65067615 4.11448899 3.31335772 3.90366497 4.2409834  2.84954488]\n",
      "Cost or Loss or Error 0.44837035557487576\n",
      "loss_m -8.198588031754376 loss_c -0.9757612970150744\n",
      "Iteration 4 ends here\n",
      "---------------------------------------------------------------------------\n",
      "m is [0.42984663] and b is [0.15197319]\n",
      "ypred [3.71970019 4.19253148 3.37582289 3.97760817 4.32148547 2.9029916 ]\n",
      "Cost or Loss or Error 0.3851283292547916\n",
      "loss_m -7.013250953896568 loss_c -0.8366200680230207\n",
      "Iteration 5 ends here\n",
      "---------------------------------------------------------------------------\n",
      "m is [0.43685988] and b is [0.15280981]\n",
      "ypred [3.77874679 4.25929266 3.42925889 4.04086272 4.39035062 2.94871303]\n",
      "Cost or Loss or Error 0.33884820042764335\n",
      "loss_m -5.999255435412055 loss_c -0.717591761925106\n",
      "Iteration 6 ends here\n",
      "---------------------------------------------------------------------------\n",
      "m is [0.44285913] and b is [0.1535274]\n",
      "ypred [3.82925821 4.31640325 3.4749709  4.09497369 4.44926099 2.98782585]\n",
      "Cost or Loss or Error 0.30498067197149065\n",
      "loss_m -5.131833898245216 loss_c -0.6157690374486935\n",
      "Iteration 7 ends here\n",
      "---------------------------------------------------------------------------\n",
      "m is [0.44799097] and b is [0.15414317]\n",
      "ypred [3.8724682  4.36525826 3.51407542 4.14126278 4.49965555 3.02128536]\n",
      "Cost or Loss or Error 0.28019659942288627\n",
      "loss_m -4.38979894024745 loss_c -0.5286648121431595\n",
      "Iteration 8 ends here\n",
      "---------------------------------------------------------------------------\n",
      "m is [0.45238077] and b is [0.15467183]\n",
      "ypred [3.90943219 4.40705103 3.54752758 4.18086065 4.54276526 3.04990874]\n",
      "Cost or Loss or Error 0.26205973767375496\n",
      "loss_m -3.755025817497505 loss_c -0.4541515135853992\n",
      "Iteration 9 ends here\n",
      "---------------------------------------------------------------------------\n"
     ]
    }
   ],
   "source": [
    "grad_desc_m2(x,y,lr=0.001,epochs=10)"
   ]
  },
  {
   "cell_type": "code",
   "execution_count": 44,
   "id": "b7fa9d71",
   "metadata": {},
   "outputs": [
    {
     "name": "stdout",
     "output_type": "stream",
     "text": [
      "[1.0347833289293769, 0.8142615143919917, 0.6528851141667271, 0.53479092289223, 0.44837035557487576, 0.3851283292547916, 0.33884820042764335, 0.30498067197149065, 0.28019659942288627, 0.26205973767375496]\n"
     ]
    }
   ],
   "source": [
    "print(cost_val)"
   ]
  },
  {
   "cell_type": "code",
   "execution_count": null,
   "id": "a85db860",
   "metadata": {},
   "outputs": [],
   "source": []
  }
 ],
 "metadata": {
  "kernelspec": {
   "display_name": "Python 3",
   "language": "python",
   "name": "python3"
  },
  "language_info": {
   "codemirror_mode": {
    "name": "ipython",
    "version": 3
   },
   "file_extension": ".py",
   "mimetype": "text/x-python",
   "name": "python",
   "nbconvert_exporter": "python",
   "pygments_lexer": "ipython3",
   "version": "3.8.8"
  }
 },
 "nbformat": 4,
 "nbformat_minor": 5
}
